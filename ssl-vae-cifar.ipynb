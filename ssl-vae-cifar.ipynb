{
 "cells": [
  {
   "cell_type": "markdown",
   "id": "8cb9e8a3",
   "metadata": {
    "papermill": {
     "duration": 0.006754,
     "end_time": "2024-03-25T13:17:09.963795",
     "exception": false,
     "start_time": "2024-03-25T13:17:09.957041",
     "status": "completed"
    },
    "tags": []
   },
   "source": [
    "# Data Loader"
   ]
  },
  {
   "cell_type": "code",
   "execution_count": 1,
   "id": "0a67bd62",
   "metadata": {
    "execution": {
     "iopub.execute_input": "2024-03-25T13:17:09.977686Z",
     "iopub.status.busy": "2024-03-25T13:17:09.977373Z",
     "iopub.status.idle": "2024-03-25T13:17:17.754916Z",
     "shell.execute_reply": "2024-03-25T13:17:17.754140Z"
    },
    "papermill": {
     "duration": 7.787001,
     "end_time": "2024-03-25T13:17:17.757426",
     "exception": false,
     "start_time": "2024-03-25T13:17:09.970425",
     "status": "completed"
    },
    "tags": []
   },
   "outputs": [],
   "source": [
    "import torch\n",
    "import torchvision\n",
    "import torchvision.transforms as transforms"
   ]
  },
  {
   "cell_type": "code",
   "execution_count": 2,
   "id": "80d369db",
   "metadata": {
    "execution": {
     "iopub.execute_input": "2024-03-25T13:17:17.773301Z",
     "iopub.status.busy": "2024-03-25T13:17:17.772082Z",
     "iopub.status.idle": "2024-03-25T13:17:23.525813Z",
     "shell.execute_reply": "2024-03-25T13:17:23.525021Z"
    },
    "papermill": {
     "duration": 5.763568,
     "end_time": "2024-03-25T13:17:23.528047",
     "exception": false,
     "start_time": "2024-03-25T13:17:17.764479",
     "status": "completed"
    },
    "tags": []
   },
   "outputs": [
    {
     "name": "stdout",
     "output_type": "stream",
     "text": [
      "Downloading https://www.cs.toronto.edu/~kriz/cifar-10-python.tar.gz to ./data/cifar-10-python.tar.gz\n"
     ]
    },
    {
     "name": "stderr",
     "output_type": "stream",
     "text": [
      "100%|██████████| 170498071/170498071 [00:02<00:00, 75966668.39it/s]\n"
     ]
    },
    {
     "name": "stdout",
     "output_type": "stream",
     "text": [
      "Extracting ./data/cifar-10-python.tar.gz to ./data\n",
      "Files already downloaded and verified\n"
     ]
    }
   ],
   "source": [
    "transform = transforms.Compose(\n",
    "    [transforms.ToTensor(),\n",
    "     transforms.Normalize((0.5, 0.5, 0.5), (0.5, 0.5, 0.5))])\n",
    "\n",
    "batch_size = 4\n",
    "\n",
    "trainset = torchvision.datasets.CIFAR10(root='./data', train=True,\n",
    "                                        download=True, transform=transform)\n",
    "trainloader = torch.utils.data.DataLoader(trainset, batch_size=batch_size,\n",
    "                                          shuffle=True, num_workers=2)\n",
    "\n",
    "testset = torchvision.datasets.CIFAR10(root='./data', train=False,\n",
    "                                       download=True, transform=transform)\n",
    "testloader = torch.utils.data.DataLoader(testset, batch_size=batch_size,\n",
    "                                         shuffle=False, num_workers=2)\n",
    "\n",
    "classes = ('plane', 'car', 'bird', 'cat',\n",
    "           'deer', 'dog', 'frog', 'horse', 'ship', 'truck')"
   ]
  },
  {
   "cell_type": "code",
   "execution_count": 3,
   "id": "e2f688fc",
   "metadata": {
    "execution": {
     "iopub.execute_input": "2024-03-25T13:17:23.546738Z",
     "iopub.status.busy": "2024-03-25T13:17:23.546428Z",
     "iopub.status.idle": "2024-03-25T13:17:23.972011Z",
     "shell.execute_reply": "2024-03-25T13:17:23.970851Z"
    },
    "papermill": {
     "duration": 0.437279,
     "end_time": "2024-03-25T13:17:23.974124",
     "exception": false,
     "start_time": "2024-03-25T13:17:23.536845",
     "status": "completed"
    },
    "tags": []
   },
   "outputs": [
    {
     "data": {
      "image/png": "[encoded data removed]",
      "text/plain": [
       "<Figure size 640x480 with 1 Axes>"
      ]
     },
     "metadata": {},
     "output_type": "display_data"
    },
    {
     "name": "stdout",
     "output_type": "stream",
     "text": [
      "horse dog   ship  bird \n"
     ]
    }
   ],
   "source": [
    "import matplotlib.pyplot as plt\n",
    "import numpy as np\n",
    "\n",
    "# functions to show an image\n",
    "\n",
    "\n",
    "def imshow(img):\n",
    "    img = img / 2 + 0.5     # unnormalize\n",
    "    npimg = img.numpy()\n",
    "    plt.imshow(np.transpose(npimg, (1, 2, 0)))\n",
    "    plt.show()\n",
    "\n",
    "\n",
    "# get some random training images\n",
    "dataiter = iter(trainloader)\n",
    "images, labels = next(dataiter)\n",
    "\n",
    "# show images\n",
    "imshow(torchvision.utils.make_grid(images))\n",
    "# print labels\n",
    "print(' '.join(f'{classes[labels[j]]:5s}' for j in range(batch_size)))"
   ]
  },
  {
   "cell_type": "markdown",
   "id": "1d1932c2",
   "metadata": {
    "papermill": {
     "duration": 0.00915,
     "end_time": "2024-03-25T13:17:23.993527",
     "exception": false,
     "start_time": "2024-03-25T13:17:23.984377",
     "status": "completed"
    },
    "tags": []
   },
   "source": [
    "# Model"
   ]
  },
  {
   "cell_type": "code",
   "execution_count": 4,
   "id": "0e9e6e7a",
   "metadata": {
    "execution": {
     "iopub.execute_input": "2024-03-25T13:17:24.013130Z",
     "iopub.status.busy": "2024-03-25T13:17:24.012797Z",
     "iopub.status.idle": "2024-03-25T13:17:24.017709Z",
     "shell.execute_reply": "2024-03-25T13:17:24.016887Z"
    },
    "papermill": {
     "duration": 0.017066,
     "end_time": "2024-03-25T13:17:24.019577",
     "exception": false,
     "start_time": "2024-03-25T13:17:24.002511",
     "status": "completed"
    },
    "tags": []
   },
   "outputs": [],
   "source": [
    "from torch import nn, optim\n",
    "import torch.nn.functional as F\n",
    "import torch.nn.init as init\n"
   ]
  },
  {
   "cell_type": "code",
   "execution_count": 5,
   "id": "53911d3d",
   "metadata": {
    "execution": {
     "iopub.execute_input": "2024-03-25T13:17:24.039571Z",
     "iopub.status.busy": "2024-03-25T13:17:24.039311Z",
     "iopub.status.idle": "2024-03-25T13:17:24.046015Z",
     "shell.execute_reply": "2024-03-25T13:17:24.044932Z"
    },
    "papermill": {
     "duration": 0.018674,
     "end_time": "2024-03-25T13:17:24.047915",
     "exception": false,
     "start_time": "2024-03-25T13:17:24.029241",
     "status": "completed"
    },
    "tags": []
   },
   "outputs": [],
   "source": [
    "class ResizeConv2d(nn.Module):\n",
    "\n",
    "    def __init__(self, in_channels, out_channels, kernel_size, scale_factor, mode='nearest'):\n",
    "        super().__init__()\n",
    "        self.scale_factor = scale_factor\n",
    "        self.mode = mode\n",
    "        self.conv = nn.Conv2d(in_channels, out_channels, kernel_size, stride=1, padding=1)\n",
    "\n",
    "    def forward(self, x):\n",
    "        x = F.interpolate(x, scale_factor=self.scale_factor, mode=self.mode)\n",
    "        x = self.conv(x)\n",
    "        return x"
   ]
  },
  {
   "cell_type": "code",
   "execution_count": 6,
   "id": "83192033",
   "metadata": {
    "execution": {
     "iopub.execute_input": "2024-03-25T13:17:24.069036Z",
     "iopub.status.busy": "2024-03-25T13:17:24.068213Z",
     "iopub.status.idle": "2024-03-25T13:17:24.077623Z",
     "shell.execute_reply": "2024-03-25T13:17:24.076760Z"
    },
    "papermill": {
     "duration": 0.022033,
     "end_time": "2024-03-25T13:17:24.079750",
     "exception": false,
     "start_time": "2024-03-25T13:17:24.057717",
     "status": "completed"
    },
    "tags": []
   },
   "outputs": [],
   "source": [
    "class BasicBlockEnc(nn.Module):\n",
    "\n",
    "    def __init__(self, in_planes, stride=1):\n",
    "        super().__init__()\n",
    "\n",
    "        planes = in_planes*stride\n",
    "\n",
    "        self.conv1 = nn.Conv2d(in_planes, planes, kernel_size=3, stride=stride, padding=1, bias=False)\n",
    "        self.bn1 = nn.BatchNorm2d(planes)\n",
    "        self.conv2 = nn.Conv2d(planes, planes, kernel_size=3, stride=1, padding=1, bias=False)\n",
    "        self.bn2 = nn.BatchNorm2d(planes)\n",
    "\n",
    "        if stride == 1:\n",
    "            self.shortcut = nn.Sequential()\n",
    "        else:\n",
    "            self.shortcut = nn.Sequential(\n",
    "                nn.Conv2d(in_planes, planes, kernel_size=1, stride=stride, bias=False),\n",
    "                nn.BatchNorm2d(planes)\n",
    "            )\n",
    "\n",
    "    def forward(self, x):\n",
    "        out = torch.relu(self.bn1(self.conv1(x)))\n",
    "        out = self.bn2(self.conv2(out))\n",
    "        out += self.shortcut(x)\n",
    "        out = torch.relu(out)\n",
    "        return out\n"
   ]
  },
  {
   "cell_type": "code",
   "execution_count": 7,
   "id": "1a0635cd",
   "metadata": {
    "execution": {
     "iopub.execute_input": "2024-03-25T13:17:24.101081Z",
     "iopub.status.busy": "2024-03-25T13:17:24.100760Z",
     "iopub.status.idle": "2024-03-25T13:17:24.111054Z",
     "shell.execute_reply": "2024-03-25T13:17:24.110155Z"
    },
    "papermill": {
     "duration": 0.023596,
     "end_time": "2024-03-25T13:17:24.113338",
     "exception": false,
     "start_time": "2024-03-25T13:17:24.089742",
     "status": "completed"
    },
    "tags": []
   },
   "outputs": [],
   "source": [
    "class BasicBlockDec(nn.Module):\n",
    "\n",
    "    def __init__(self, in_planes, stride=1):\n",
    "        super().__init__()\n",
    "\n",
    "        planes = int(in_planes/stride)\n",
    "\n",
    "        self.conv2 = nn.Conv2d(in_planes, in_planes, kernel_size=3, stride=1, padding=1, bias=False)\n",
    "        self.bn2 = nn.BatchNorm2d(in_planes)\n",
    "        # self.bn1 could have been placed here, but that messes up the order of the layers when printing the class\n",
    "\n",
    "        if stride == 1:\n",
    "            self.conv1 = nn.Conv2d(in_planes, planes, kernel_size=3, stride=1, padding=1, bias=False)\n",
    "            self.bn1 = nn.BatchNorm2d(planes)\n",
    "            self.shortcut = nn.Sequential()\n",
    "        else:\n",
    "            self.conv1 = ResizeConv2d(in_planes, planes, kernel_size=3, scale_factor=stride)\n",
    "            self.bn1 = nn.BatchNorm2d(planes)\n",
    "            self.shortcut = nn.Sequential(\n",
    "                ResizeConv2d(in_planes, planes, kernel_size=3, scale_factor=stride),\n",
    "                nn.BatchNorm2d(planes)\n",
    "            )\n",
    "\n",
    "    def forward(self, x):\n",
    "        out = torch.relu(self.bn2(self.conv2(x)))\n",
    "        out = self.bn1(self.conv1(out))\n",
    "        out += self.shortcut(x)\n",
    "        out = torch.relu(out)\n",
    "        return out"
   ]
  },
  {
   "cell_type": "code",
   "execution_count": 8,
   "id": "57a8bc21",
   "metadata": {
    "execution": {
     "iopub.execute_input": "2024-03-25T13:17:24.134062Z",
     "iopub.status.busy": "2024-03-25T13:17:24.133780Z",
     "iopub.status.idle": "2024-03-25T13:17:24.145838Z",
     "shell.execute_reply": "2024-03-25T13:17:24.145145Z"
    },
    "papermill": {
     "duration": 0.025091,
     "end_time": "2024-03-25T13:17:24.147856",
     "exception": false,
     "start_time": "2024-03-25T13:17:24.122765",
     "status": "completed"
    },
    "tags": []
   },
   "outputs": [],
   "source": [
    "class ResNet18Enc(nn.Module):\n",
    "\n",
    "    def __init__(self, num_Blocks=[2,2,2,2], z_dim=10, nc=3):\n",
    "        super().__init__()\n",
    "        self.in_planes = 64\n",
    "        self.z_dim = z_dim\n",
    "        \n",
    "        #self.conv1 = nn.Conv2d(nc, 64, kernel_size=3, stride=2, padding=1, bias=False)\n",
    "        self.conv1 = nn.Conv2d(nc, 64, kernel_size=3, stride=1, padding=1, bias=False)\n",
    "        \n",
    "        self.bn1 = nn.BatchNorm2d(64)\n",
    "        self.layer1 = self._make_layer(BasicBlockEnc, 64, num_Blocks[0], stride=1)\n",
    "        self.layer2 = self._make_layer(BasicBlockEnc, 128, num_Blocks[1], stride=2)\n",
    "        self.layer3 = self._make_layer(BasicBlockEnc, 256, num_Blocks[2], stride=2)\n",
    "        self.layer4 = self._make_layer(BasicBlockEnc, 512, num_Blocks[3], stride=2)\n",
    "        self.linear = nn.Linear(512, 2 * z_dim)\n",
    "        \n",
    "\n",
    "    def _make_layer(self, BasicBlockEnc, planes, num_Blocks, stride):\n",
    "        strides = [stride] + [1]*(num_Blocks-1)\n",
    "        layers = []\n",
    "        for stride in strides:\n",
    "            layers += [BasicBlockEnc(self.in_planes, stride)]\n",
    "            self.in_planes = planes\n",
    "        return nn.Sequential(*layers)\n",
    "\n",
    "    def forward(self, x):\n",
    "        x = torch.relu(self.bn1(self.conv1(x)))\n",
    "        x = self.layer1(x)\n",
    "        x = self.layer2(x)\n",
    "        x = self.layer3(x)\n",
    "        x = self.layer4(x)\n",
    "        x = F.adaptive_avg_pool2d(x, 1)\n",
    "        x = x.view(x.size(0), -1)\n",
    "        x = self.linear(x)\n",
    "        mu = x[:, :self.z_dim]\n",
    "        logvar = x[:, self.z_dim:]\n",
    "        return mu, logvar"
   ]
  },
  {
   "cell_type": "code",
   "execution_count": 9,
   "id": "f1c2041b",
   "metadata": {
    "execution": {
     "iopub.execute_input": "2024-03-25T13:17:24.168545Z",
     "iopub.status.busy": "2024-03-25T13:17:24.167752Z",
     "iopub.status.idle": "2024-03-25T13:17:24.180243Z",
     "shell.execute_reply": "2024-03-25T13:17:24.179029Z"
    },
    "papermill": {
     "duration": 0.025169,
     "end_time": "2024-03-25T13:17:24.182434",
     "exception": false,
     "start_time": "2024-03-25T13:17:24.157265",
     "status": "completed"
    },
    "tags": []
   },
   "outputs": [],
   "source": [
    "class ResNet18Dec(nn.Module):\n",
    "\n",
    "    def __init__(self, num_Blocks=[2,2,2,2], z_dim=10, nc=3):\n",
    "        super().__init__()\n",
    "        self.in_planes = 512\n",
    "\n",
    "        self.linear = nn.Linear(z_dim, 512)\n",
    "\n",
    "        self.layer4 = self._make_layer(BasicBlockDec, 256, num_Blocks[3], stride=2)\n",
    "        self.layer3 = self._make_layer(BasicBlockDec, 128, num_Blocks[2], stride=2)\n",
    "        self.layer2 = self._make_layer(BasicBlockDec, 64, num_Blocks[1], stride=2)\n",
    "        self.layer1 = self._make_layer(BasicBlockDec, 64, num_Blocks[0], stride=1)\n",
    "        #self.conv1 = ResizeConv2d(64, nc, kernel_size=3, scale_factor=2)\n",
    "        self.conv1 = ResizeConv2d(64, nc, kernel_size=3, scale_factor=1)\n",
    "        \n",
    "\n",
    "    def _make_layer(self, BasicBlockDec, planes, num_Blocks, stride):\n",
    "        strides = [stride] + [1]*(num_Blocks-1)\n",
    "        layers = []\n",
    "        for stride in reversed(strides):\n",
    "            layers += [BasicBlockDec(self.in_planes, stride)]\n",
    "        self.in_planes = planes\n",
    "        return nn.Sequential(*layers)\n",
    "\n",
    "    def forward(self, z):\n",
    "        x = self.linear(z)\n",
    "        x = x.view(z.size(0), 512, 1, 1)       #reshaped to have dimensions (batch_size, 512, 1, 1)\n",
    "        x = F.interpolate(x, scale_factor=4)\n",
    "        x = self.layer4(x)\n",
    "        x = self.layer3(x)\n",
    "        x = self.layer2(x)\n",
    "        x = self.layer1(x)\n",
    "        x = torch.sigmoid(self.conv1(x))\n",
    "        \n",
    "        #x = x.view(x.size(0), 3, 64, 64)\n",
    "        x = x.view(x.size(0), 3, 32, 32)\n",
    "\n",
    "        return x"
   ]
  },
  {
   "cell_type": "code",
   "execution_count": 10,
   "id": "a1c87bb1",
   "metadata": {
    "execution": {
     "iopub.execute_input": "2024-03-25T13:17:24.202703Z",
     "iopub.status.busy": "2024-03-25T13:17:24.202414Z",
     "iopub.status.idle": "2024-03-25T13:17:24.214999Z",
     "shell.execute_reply": "2024-03-25T13:17:24.214096Z"
    },
    "papermill": {
     "duration": 0.025136,
     "end_time": "2024-03-25T13:17:24.217079",
     "exception": false,
     "start_time": "2024-03-25T13:17:24.191943",
     "status": "completed"
    },
    "tags": []
   },
   "outputs": [],
   "source": [
    "class VAE(nn.Module):\n",
    "\n",
    "    def __init__(self, z_dim):\n",
    "        super().__init__()\n",
    "        self.encoder = ResNet18Enc(z_dim=z_dim)\n",
    "        self.decoder = ResNet18Dec(z_dim=z_dim)\n",
    "        \n",
    "        # for the gaussian likelihood\n",
    "        self.log_scale = nn.Parameter(torch.Tensor([0.0]))\n",
    "\n",
    "    def forward(self, x):\n",
    "        mean, logvar = self.encoder(x)\n",
    "        #z = self.reparameterize(mean, logvar)\n",
    "\n",
    "        # sample z from q\n",
    "        std = torch.exp(logvar / 2)\n",
    "        q = torch.distributions.Normal(mean, std)\n",
    "        z = q.rsample()\n",
    "        \n",
    "        x_recon = self.decoder(z)   \n",
    "        \n",
    "        return x_recon, mean, logvar, z\n",
    "    \n",
    "    def gaussian_likelihood(self, x_hat, logscale, x):\n",
    "        scale = torch.exp(logscale)\n",
    "        mean = x_hat\n",
    "        dist = torch.distributions.Normal(mean, scale)\n",
    "\n",
    "        # measure prob of seeing image under p(x|z)\n",
    "        log_pxz = dist.log_prob(x)\n",
    "        return log_pxz.sum(dim=(1, 2, 3))\n",
    "    \n",
    "    def kl_divergence(self, z, mu, std):\n",
    "        # --------------------------\n",
    "        # Monte carlo KL divergence\n",
    "        # --------------------------\n",
    "        # 1. define the first two probabilities (in this case Normal for both)\n",
    "        p = torch.distributions.Normal(torch.zeros_like(mu), torch.ones_like(std))\n",
    "        q = torch.distributions.Normal(mu, std)\n",
    "\n",
    "        # 2. get the probabilities from the equation\n",
    "        log_qzx = q.log_prob(z)\n",
    "        log_pz = p.log_prob(z)\n",
    "\n",
    "        # kl\n",
    "        kl = (log_qzx - log_pz)\n",
    "        kl = kl.sum(-1)\n",
    "        return kl\n",
    "    \n",
    "    def loss(self, x_hat, x, z, mu, logvar):\n",
    "        \n",
    "        # reconstruction loss\n",
    "        recon_loss = self.gaussian_likelihood(x_hat, self.log_scale, x)\n",
    "\n",
    "        # kl\n",
    "        std = torch.exp(logvar / 2)\n",
    "        kl = self.kl_divergence(z, mu, std)\n",
    "\n",
    "        # elbo\n",
    "        #print(kl,recon_loss)\n",
    "        elbo = (kl - recon_loss)\n",
    "        elbo = elbo.mean()\n",
    "        return elbo\n",
    "    \n",
    "    @staticmethod\n",
    "    def reparameterize(mean, logvar):\n",
    "        std = torch.exp(logvar / 2) # in log-space, squareroot is divide by two\n",
    "        epsilon = torch.randn_like(std)\n",
    "        return epsilon * std + mean"
   ]
  },
  {
   "cell_type": "code",
   "execution_count": 11,
   "id": "e2f20b2f",
   "metadata": {
    "execution": {
     "iopub.execute_input": "2024-03-25T13:17:24.237423Z",
     "iopub.status.busy": "2024-03-25T13:17:24.236715Z",
     "iopub.status.idle": "2024-03-25T13:17:24.879184Z",
     "shell.execute_reply": "2024-03-25T13:17:24.877238Z"
    },
    "papermill": {
     "duration": 0.655129,
     "end_time": "2024-03-25T13:17:24.881666",
     "exception": false,
     "start_time": "2024-03-25T13:17:24.226537",
     "status": "completed"
    },
    "tags": []
   },
   "outputs": [
    {
     "name": "stdout",
     "output_type": "stream",
     "text": [
      "VAE Loss: 3670.795166015625\n"
     ]
    }
   ],
   "source": [
    "# Get a batch of images and labels\n",
    "dataiter = iter(trainloader)\n",
    "images, _ = next(dataiter)\n",
    "\n",
    "# Forward pass through VAE model to obtain reconstructed images, mean, and log variance\n",
    "vae_model_ins = VAE(z_dim=32)\n",
    "recon_images, mu, logvar, z = vae_model_ins(images)\n",
    "\n",
    "# Compute VAE loss\n",
    "loss = vae_model_ins.loss(recon_images, images, z, mu, logvar)\n",
    "# Print the loss\n",
    "\n",
    "print(\"VAE Loss:\", loss.item())"
   ]
  },
  {
   "cell_type": "markdown",
   "id": "467d70a1",
   "metadata": {
    "papermill": {
     "duration": 0.009497,
     "end_time": "2024-03-25T13:17:24.900761",
     "exception": false,
     "start_time": "2024-03-25T13:17:24.891264",
     "status": "completed"
    },
    "tags": []
   },
   "source": [
    "# Training"
   ]
  },
  {
   "cell_type": "code",
   "execution_count": 12,
   "id": "e1450730",
   "metadata": {
    "execution": {
     "iopub.execute_input": "2024-03-25T13:17:24.920763Z",
     "iopub.status.busy": "2024-03-25T13:17:24.920435Z",
     "iopub.status.idle": "2024-03-25T13:17:25.003968Z",
     "shell.execute_reply": "2024-03-25T13:17:25.003064Z"
    },
    "papermill": {
     "duration": 0.096137,
     "end_time": "2024-03-25T13:17:25.006205",
     "exception": false,
     "start_time": "2024-03-25T13:17:24.910068",
     "status": "completed"
    },
    "tags": []
   },
   "outputs": [
    {
     "name": "stdout",
     "output_type": "stream",
     "text": [
      "cuda:0\n"
     ]
    }
   ],
   "source": [
    "device = torch.device('cuda:0' if torch.cuda.is_available() else 'cpu')\n",
    "\n",
    "# Assuming that we are on a CUDA machine, this should print a CUDA device:\n",
    "\n",
    "print(device)"
   ]
  },
  {
   "cell_type": "code",
   "execution_count": 13,
   "id": "48f7c4df",
   "metadata": {
    "execution": {
     "iopub.execute_input": "2024-03-25T13:17:25.027234Z",
     "iopub.status.busy": "2024-03-25T13:17:25.026871Z",
     "iopub.status.idle": "2024-03-25T13:17:25.502688Z",
     "shell.execute_reply": "2024-03-25T13:17:25.501594Z"
    },
    "papermill": {
     "duration": 0.488895,
     "end_time": "2024-03-25T13:17:25.505058",
     "exception": false,
     "start_time": "2024-03-25T13:17:25.016163",
     "status": "completed"
    },
    "tags": []
   },
   "outputs": [],
   "source": [
    "from torch.optim import Adam\n",
    "from torch.optim.lr_scheduler import StepLR\n",
    "\n",
    "\n",
    "vae_model = VAE(z_dim=10)\n",
    "vae_model.to(device)\n",
    "\n",
    "optimizer = Adam(vae_model.parameters())\n",
    "#scheduler = StepLR(optimizer, step_size=1, gamma=0.1)"
   ]
  },
  {
   "cell_type": "code",
   "execution_count": 14,
   "id": "4af0e5df",
   "metadata": {
    "execution": {
     "iopub.execute_input": "2024-03-25T13:17:25.527079Z",
     "iopub.status.busy": "2024-03-25T13:17:25.526743Z",
     "iopub.status.idle": "2024-03-25T13:23:30.892414Z",
     "shell.execute_reply": "2024-03-25T13:23:30.890942Z"
    },
    "papermill": {
     "duration": 365.379326,
     "end_time": "2024-03-25T13:23:30.894802",
     "exception": false,
     "start_time": "2024-03-25T13:17:25.515476",
     "status": "completed"
    },
    "tags": []
   },
   "outputs": [
    {
     "name": "stdout",
     "output_type": "stream",
     "text": [
      "[1,  2000] loss: 2406.294\n",
      "[1,  4000] loss: 2266.891\n",
      "[1,  6000] loss: 2229.097\n",
      "[1,  8000] loss: 2103.056\n",
      "[1, 10000] loss: 1987.146\n",
      "[1, 12000] loss: 1925.331\n",
      "Finished Training\n"
     ]
    }
   ],
   "source": [
    "for epoch in range(1):  # loop over the dataset multiple times\n",
    "\n",
    "    running_loss = 0.0\n",
    "    for i, data in enumerate(trainloader, 0):\n",
    "        # get the inputs; data is a list of [inputs, labels]\n",
    "        #inputs, labels = data\n",
    "        inputs, labels = data[0].to(device), data[1].to(device)\n",
    "        \n",
    "        # zero the parameter gradients\n",
    "        optimizer.zero_grad()\n",
    "\n",
    "        # forward + backward + optimize\n",
    "        x_hat, mu, logvar,z = vae_model(inputs) \n",
    "        loss = vae_model.loss(x_hat, inputs, z, mu, logvar)\n",
    "        loss.backward()\n",
    "        optimizer.step()\n",
    "        #scheduler.step()\n",
    "\n",
    "        # print statistics\n",
    "        running_loss += loss.item()\n",
    "        if i % 2000 == 1999:    # print every 2000 mini-batches\n",
    "            print(f'[{epoch + 1}, {i + 1:5d}] loss: {running_loss / 2000:.3f}')\n",
    "            running_loss = 0.0\n",
    "\n",
    "print('Finished Training')"
   ]
  },
  {
   "cell_type": "code",
   "execution_count": 15,
   "id": "44ca1931",
   "metadata": {
    "execution": {
     "iopub.execute_input": "2024-03-25T13:23:30.918356Z",
     "iopub.status.busy": "2024-03-25T13:23:30.917762Z",
     "iopub.status.idle": "2024-03-25T13:23:31.085843Z",
     "shell.execute_reply": "2024-03-25T13:23:31.084871Z"
    },
    "papermill": {
     "duration": 0.182814,
     "end_time": "2024-03-25T13:23:31.088542",
     "exception": false,
     "start_time": "2024-03-25T13:23:30.905728",
     "status": "completed"
    },
    "tags": []
   },
   "outputs": [],
   "source": [
    "PATH = './cifar_net.pth'\n",
    "torch.save(vae_model.state_dict(), PATH)"
   ]
  },
  {
   "cell_type": "code",
   "execution_count": 16,
   "id": "876464aa",
   "metadata": {
    "execution": {
     "iopub.execute_input": "2024-03-25T13:23:31.112367Z",
     "iopub.status.busy": "2024-03-25T13:23:31.111682Z",
     "iopub.status.idle": "2024-03-25T13:23:31.493607Z",
     "shell.execute_reply": "2024-03-25T13:23:31.492651Z"
    },
    "papermill": {
     "duration": 0.396132,
     "end_time": "2024-03-25T13:23:31.495781",
     "exception": false,
     "start_time": "2024-03-25T13:23:31.099649",
     "status": "completed"
    },
    "tags": []
   },
   "outputs": [
    {
     "data": {
      "text/plain": [
       "<All keys matched successfully>"
      ]
     },
     "execution_count": 16,
     "metadata": {},
     "output_type": "execute_result"
    }
   ],
   "source": [
    "vae_model1 = VAE(z_dim=10)\n",
    "vae_model1.load_state_dict(torch.load(PATH))"
   ]
  },
  {
   "cell_type": "code",
   "execution_count": 17,
   "id": "996989c0",
   "metadata": {
    "execution": {
     "iopub.execute_input": "2024-03-25T13:23:31.516879Z",
     "iopub.status.busy": "2024-03-25T13:23:31.516354Z",
     "iopub.status.idle": "2024-03-25T13:23:31.809575Z",
     "shell.execute_reply": "2024-03-25T13:23:31.808430Z"
    },
    "papermill": {
     "duration": 0.306096,
     "end_time": "2024-03-25T13:23:31.811716",
     "exception": false,
     "start_time": "2024-03-25T13:23:31.505620",
     "status": "completed"
    },
    "tags": []
   },
   "outputs": [
    {
     "data": {
      "image/png": "[encoded data removed]",
      "text/plain": [
       "<Figure size 640x480 with 1 Axes>"
      ]
     },
     "metadata": {},
     "output_type": "display_data"
    }
   ],
   "source": [
    "dataiter = iter(testloader)\n",
    "images, labels = next(dataiter)\n",
    "\n",
    "# print images\n",
    "imshow(torchvision.utils.make_grid(images))\n",
    "#print('GroundTruth: ', ' '.join(f'{classes[labels[j]]:5s}' for j in range(4)))"
   ]
  },
  {
   "cell_type": "code",
   "execution_count": 18,
   "id": "d28908aa",
   "metadata": {
    "execution": {
     "iopub.execute_input": "2024-03-25T13:23:31.834473Z",
     "iopub.status.busy": "2024-03-25T13:23:31.833654Z",
     "iopub.status.idle": "2024-03-25T13:23:32.181540Z",
     "shell.execute_reply": "2024-03-25T13:23:32.180441Z"
    },
    "papermill": {
     "duration": 0.361739,
     "end_time": "2024-03-25T13:23:32.183657",
     "exception": false,
     "start_time": "2024-03-25T13:23:31.821918",
     "status": "completed"
    },
    "tags": []
   },
   "outputs": [
    {
     "data": {
      "image/png": "[encoded data removed]",
      "text/plain": [
       "<Figure size 640x480 with 1 Axes>"
      ]
     },
     "metadata": {},
     "output_type": "display_data"
    }
   ],
   "source": [
    "outputs, _, _, _ = vae_model1(images)\n",
    "imshow(torchvision.utils.make_grid(outputs))"
   ]
  },
  {
   "cell_type": "code",
   "execution_count": null,
   "id": "6642df8f",
   "metadata": {
    "papermill": {
     "duration": 0.010246,
     "end_time": "2024-03-25T13:23:32.204675",
     "exception": false,
     "start_time": "2024-03-25T13:23:32.194429",
     "status": "completed"
    },
    "tags": []
   },
   "outputs": [],
   "source": []
  }
 ],
 "metadata": {
  "kaggle": {
   "accelerator": "nvidiaTeslaT4",
   "dataSources": [],
   "dockerImageVersionId": 30664,
   "isGpuEnabled": true,
   "isInternetEnabled": true,
   "language": "python",
   "sourceType": "notebook"
  },
  "kernelspec": {
   "display_name": "Python 3",
   "language": "python",
   "name": "python3"
  },
  "language_info": {
   "codemirror_mode": {
    "name": "ipython",
    "version": 3
   },
   "file_extension": ".py",
   "mimetype": "text/x-python",
   "name": "python",
   "nbconvert_exporter": "python",
   "pygments_lexer": "ipython3",
   "version": "3.10.13"
  },
  "papermill": {
   "default_parameters": {},
   "duration": 387.998633,
   "end_time": "2024-03-25T13:23:34.935407",
   "environment_variables": {},
   "exception": null,
   "input_path": "__notebook__.ipynb",
   "output_path": "__notebook__.ipynb",
   "parameters": {},
   "start_time": "2024-03-25T13:17:06.936774",
   "version": "2.5.0"
  }
 },
 "nbformat": 4,
 "nbformat_minor": 5
}
