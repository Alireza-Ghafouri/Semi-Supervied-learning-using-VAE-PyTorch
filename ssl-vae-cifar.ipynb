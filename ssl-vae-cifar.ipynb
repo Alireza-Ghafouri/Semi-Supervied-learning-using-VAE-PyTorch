{
 "cells": [
  {
   "cell_type": "markdown",
   "id": "80d6df4d",
   "metadata": {
    "papermill": {
     "duration": 0.007094,
     "end_time": "2024-03-25T13:41:14.572025",
     "exception": false,
     "start_time": "2024-03-25T13:41:14.564931",
     "status": "completed"
    },
    "tags": []
   },
   "source": [
    "# Data Loader"
   ]
  },
  {
   "cell_type": "code",
   "execution_count": 1,
   "id": "b01b3bc9",
   "metadata": {
    "execution": {
     "iopub.execute_input": "2024-03-25T13:41:14.587273Z",
     "iopub.status.busy": "2024-03-25T13:41:14.586498Z",
     "iopub.status.idle": "2024-03-25T13:41:22.066093Z",
     "shell.execute_reply": "2024-03-25T13:41:22.065340Z"
    },
    "papermill": {
     "duration": 7.489929,
     "end_time": "2024-03-25T13:41:22.068493",
     "exception": false,
     "start_time": "2024-03-25T13:41:14.578564",
     "status": "completed"
    },
    "tags": []
   },
   "outputs": [],
   "source": [
    "import torch\n",
    "import torchvision\n",
    "import torchvision.transforms as transforms"
   ]
  },
  {
   "cell_type": "code",
   "execution_count": 2,
   "id": "f1fd6414",
   "metadata": {
    "execution": {
     "iopub.execute_input": "2024-03-25T13:41:22.083815Z",
     "iopub.status.busy": "2024-03-25T13:41:22.083236Z",
     "iopub.status.idle": "2024-03-25T13:41:28.454139Z",
     "shell.execute_reply": "2024-03-25T13:41:28.453136Z"
    },
    "papermill": {
     "duration": 6.381,
     "end_time": "2024-03-25T13:41:28.456506",
     "exception": false,
     "start_time": "2024-03-25T13:41:22.075506",
     "status": "completed"
    },
    "tags": []
   },
   "outputs": [
    {
     "name": "stdout",
     "output_type": "stream",
     "text": [
      "Downloading https://www.cs.toronto.edu/~kriz/cifar-10-python.tar.gz to ./data/cifar-10-python.tar.gz\n"
     ]
    },
    {
     "name": "stderr",
     "output_type": "stream",
     "text": [
      "100%|██████████| 170498071/170498071 [00:01<00:00, 96176227.12it/s] \n"
     ]
    },
    {
     "name": "stdout",
     "output_type": "stream",
     "text": [
      "Extracting ./data/cifar-10-python.tar.gz to ./data\n",
      "Files already downloaded and verified\n"
     ]
    }
   ],
   "source": [
    "transform = transforms.Compose(\n",
    "    [transforms.ToTensor(),\n",
    "     transforms.Normalize((0.5, 0.5, 0.5), (0.5, 0.5, 0.5))])\n",
    "\n",
    "batch_size = 4\n",
    "\n",
    "trainset = torchvision.datasets.CIFAR10(root='./data', train=True,\n",
    "                                        download=True, transform=transform)\n",
    "trainloader = torch.utils.data.DataLoader(trainset, batch_size=batch_size,\n",
    "                                          shuffle=True, num_workers=2)\n",
    "\n",
    "testset = torchvision.datasets.CIFAR10(root='./data', train=False,\n",
    "                                       download=True, transform=transform)\n",
    "testloader = torch.utils.data.DataLoader(testset, batch_size=batch_size,\n",
    "                                         shuffle=False, num_workers=2)\n",
    "\n",
    "classes = ('plane', 'car', 'bird', 'cat',\n",
    "           'deer', 'dog', 'frog', 'horse', 'ship', 'truck')"
   ]
  },
  {
   "cell_type": "code",
   "execution_count": 3,
   "id": "cde8e05d",
   "metadata": {
    "execution": {
     "iopub.execute_input": "2024-03-25T13:41:28.474622Z",
     "iopub.status.busy": "2024-03-25T13:41:28.474316Z",
     "iopub.status.idle": "2024-03-25T13:41:28.900783Z",
     "shell.execute_reply": "2024-03-25T13:41:28.899648Z"
    },
    "papermill": {
     "duration": 0.438048,
     "end_time": "2024-03-25T13:41:28.903149",
     "exception": false,
     "start_time": "2024-03-25T13:41:28.465101",
     "status": "completed"
    },
    "tags": []
   },
   "outputs": [
    {
     "data": {
      "image/png": "[encoded data removed]",
      "text/plain": [
       "<Figure size 640x480 with 1 Axes>"
      ]
     },
     "metadata": {},
     "output_type": "display_data"
    },
    {
     "name": "stdout",
     "output_type": "stream",
     "text": [
      "plane deer  frog  ship \n"
     ]
    }
   ],
   "source": [
    "import matplotlib.pyplot as plt\n",
    "import numpy as np\n",
    "\n",
    "# functions to show an image\n",
    "\n",
    "\n",
    "def imshow(img):\n",
    "    img = img / 2 + 0.5     # unnormalize\n",
    "    npimg = img.numpy()\n",
    "    plt.imshow(np.transpose(npimg, (1, 2, 0)))\n",
    "    plt.show()\n",
    "\n",
    "\n",
    "# get some random training images\n",
    "dataiter = iter(trainloader)\n",
    "images, labels = next(dataiter)\n",
    "\n",
    "# show images\n",
    "imshow(torchvision.utils.make_grid(images))\n",
    "# print labels\n",
    "print(' '.join(f'{classes[labels[j]]:5s}' for j in range(batch_size)))"
   ]
  },
  {
   "cell_type": "markdown",
   "id": "7dfd4aed",
   "metadata": {
    "papermill": {
     "duration": 0.008678,
     "end_time": "2024-03-25T13:41:28.921508",
     "exception": false,
     "start_time": "2024-03-25T13:41:28.912830",
     "status": "completed"
    },
    "tags": []
   },
   "source": [
    "# Model"
   ]
  },
  {
   "cell_type": "code",
   "execution_count": 4,
   "id": "57b0ca10",
   "metadata": {
    "execution": {
     "iopub.execute_input": "2024-03-25T13:41:28.940825Z",
     "iopub.status.busy": "2024-03-25T13:41:28.940006Z",
     "iopub.status.idle": "2024-03-25T13:41:28.944975Z",
     "shell.execute_reply": "2024-03-25T13:41:28.944115Z"
    },
    "papermill": {
     "duration": 0.016746,
     "end_time": "2024-03-25T13:41:28.946890",
     "exception": false,
     "start_time": "2024-03-25T13:41:28.930144",
     "status": "completed"
    },
    "tags": []
   },
   "outputs": [],
   "source": [
    "from torch import nn, optim\n",
    "import torch.nn.functional as F\n",
    "import torch.nn.init as init\n"
   ]
  },
  {
   "cell_type": "code",
   "execution_count": 5,
   "id": "6f5caa12",
   "metadata": {
    "execution": {
     "iopub.execute_input": "2024-03-25T13:41:28.966037Z",
     "iopub.status.busy": "2024-03-25T13:41:28.965552Z",
     "iopub.status.idle": "2024-03-25T13:41:28.971871Z",
     "shell.execute_reply": "2024-03-25T13:41:28.970962Z"
    },
    "papermill": {
     "duration": 0.018082,
     "end_time": "2024-03-25T13:41:28.973948",
     "exception": false,
     "start_time": "2024-03-25T13:41:28.955866",
     "status": "completed"
    },
    "tags": []
   },
   "outputs": [],
   "source": [
    "class ResizeConv2d(nn.Module):\n",
    "\n",
    "    def __init__(self, in_channels, out_channels, kernel_size, scale_factor, mode='nearest'):\n",
    "        super().__init__()\n",
    "        self.scale_factor = scale_factor\n",
    "        self.mode = mode\n",
    "        self.conv = nn.Conv2d(in_channels, out_channels, kernel_size, stride=1, padding=1)\n",
    "\n",
    "    def forward(self, x):\n",
    "        x = F.interpolate(x, scale_factor=self.scale_factor, mode=self.mode)\n",
    "        x = self.conv(x)\n",
    "        return x"
   ]
  },
  {
   "cell_type": "code",
   "execution_count": 6,
   "id": "ce4f31a3",
   "metadata": {
    "execution": {
     "iopub.execute_input": "2024-03-25T13:41:28.993993Z",
     "iopub.status.busy": "2024-03-25T13:41:28.993736Z",
     "iopub.status.idle": "2024-03-25T13:41:29.002220Z",
     "shell.execute_reply": "2024-03-25T13:41:29.001404Z"
    },
    "papermill": {
     "duration": 0.020302,
     "end_time": "2024-03-25T13:41:29.004157",
     "exception": false,
     "start_time": "2024-03-25T13:41:28.983855",
     "status": "completed"
    },
    "tags": []
   },
   "outputs": [],
   "source": [
    "class BasicBlockEnc(nn.Module):\n",
    "\n",
    "    def __init__(self, in_planes, stride=1):\n",
    "        super().__init__()\n",
    "\n",
    "        planes = in_planes*stride\n",
    "\n",
    "        self.conv1 = nn.Conv2d(in_planes, planes, kernel_size=3, stride=stride, padding=1, bias=False)\n",
    "        self.bn1 = nn.BatchNorm2d(planes)\n",
    "        self.conv2 = nn.Conv2d(planes, planes, kernel_size=3, stride=1, padding=1, bias=False)\n",
    "        self.bn2 = nn.BatchNorm2d(planes)\n",
    "\n",
    "        if stride == 1:\n",
    "            self.shortcut = nn.Sequential()\n",
    "        else:\n",
    "            self.shortcut = nn.Sequential(\n",
    "                nn.Conv2d(in_planes, planes, kernel_size=1, stride=stride, bias=False),\n",
    "                nn.BatchNorm2d(planes)\n",
    "            )\n",
    "\n",
    "    def forward(self, x):\n",
    "        out = torch.relu(self.bn1(self.conv1(x)))\n",
    "        out = self.bn2(self.conv2(out))\n",
    "        out += self.shortcut(x)\n",
    "        out = torch.relu(out)\n",
    "        return out\n"
   ]
  },
  {
   "cell_type": "code",
   "execution_count": 7,
   "id": "d2361b23",
   "metadata": {
    "execution": {
     "iopub.execute_input": "2024-03-25T13:41:29.023092Z",
     "iopub.status.busy": "2024-03-25T13:41:29.022837Z",
     "iopub.status.idle": "2024-03-25T13:41:29.031968Z",
     "shell.execute_reply": "2024-03-25T13:41:29.031106Z"
    },
    "papermill": {
     "duration": 0.020796,
     "end_time": "2024-03-25T13:41:29.033824",
     "exception": false,
     "start_time": "2024-03-25T13:41:29.013028",
     "status": "completed"
    },
    "tags": []
   },
   "outputs": [],
   "source": [
    "class BasicBlockDec(nn.Module):\n",
    "\n",
    "    def __init__(self, in_planes, stride=1):\n",
    "        super().__init__()\n",
    "\n",
    "        planes = int(in_planes/stride)\n",
    "\n",
    "        self.conv2 = nn.Conv2d(in_planes, in_planes, kernel_size=3, stride=1, padding=1, bias=False)\n",
    "        self.bn2 = nn.BatchNorm2d(in_planes)\n",
    "        # self.bn1 could have been placed here, but that messes up the order of the layers when printing the class\n",
    "\n",
    "        if stride == 1:\n",
    "            self.conv1 = nn.Conv2d(in_planes, planes, kernel_size=3, stride=1, padding=1, bias=False)\n",
    "            self.bn1 = nn.BatchNorm2d(planes)\n",
    "            self.shortcut = nn.Sequential()\n",
    "        else:\n",
    "            self.conv1 = ResizeConv2d(in_planes, planes, kernel_size=3, scale_factor=stride)\n",
    "            self.bn1 = nn.BatchNorm2d(planes)\n",
    "            self.shortcut = nn.Sequential(\n",
    "                ResizeConv2d(in_planes, planes, kernel_size=3, scale_factor=stride),\n",
    "                nn.BatchNorm2d(planes)\n",
    "            )\n",
    "\n",
    "    def forward(self, x):\n",
    "        out = torch.relu(self.bn2(self.conv2(x)))\n",
    "        out = self.bn1(self.conv1(out))\n",
    "        out += self.shortcut(x)\n",
    "        out = torch.relu(out)\n",
    "        return out"
   ]
  },
  {
   "cell_type": "code",
   "execution_count": 8,
   "id": "555f5577",
   "metadata": {
    "execution": {
     "iopub.execute_input": "2024-03-25T13:41:29.052278Z",
     "iopub.status.busy": "2024-03-25T13:41:29.051838Z",
     "iopub.status.idle": "2024-03-25T13:41:29.063569Z",
     "shell.execute_reply": "2024-03-25T13:41:29.062704Z"
    },
    "papermill": {
     "duration": 0.023165,
     "end_time": "2024-03-25T13:41:29.065501",
     "exception": false,
     "start_time": "2024-03-25T13:41:29.042336",
     "status": "completed"
    },
    "tags": []
   },
   "outputs": [],
   "source": [
    "class ResNet18Enc(nn.Module):\n",
    "\n",
    "    def __init__(self, num_Blocks=[2,2,2,2], z_dim=10, nc=3):\n",
    "        super().__init__()\n",
    "        self.in_planes = 64\n",
    "        self.z_dim = z_dim\n",
    "        \n",
    "        #self.conv1 = nn.Conv2d(nc, 64, kernel_size=3, stride=2, padding=1, bias=False)\n",
    "        self.conv1 = nn.Conv2d(nc, 64, kernel_size=3, stride=1, padding=1, bias=False)\n",
    "        \n",
    "        self.bn1 = nn.BatchNorm2d(64)\n",
    "        self.layer1 = self._make_layer(BasicBlockEnc, 64, num_Blocks[0], stride=1)\n",
    "        self.layer2 = self._make_layer(BasicBlockEnc, 128, num_Blocks[1], stride=2)\n",
    "        self.layer3 = self._make_layer(BasicBlockEnc, 256, num_Blocks[2], stride=2)\n",
    "        self.layer4 = self._make_layer(BasicBlockEnc, 512, num_Blocks[3], stride=2)\n",
    "        self.linear = nn.Linear(512, 2 * z_dim)\n",
    "        \n",
    "\n",
    "    def _make_layer(self, BasicBlockEnc, planes, num_Blocks, stride):\n",
    "        strides = [stride] + [1]*(num_Blocks-1)\n",
    "        layers = []\n",
    "        for stride in strides:\n",
    "            layers += [BasicBlockEnc(self.in_planes, stride)]\n",
    "            self.in_planes = planes\n",
    "        return nn.Sequential(*layers)\n",
    "\n",
    "    def forward(self, x):\n",
    "        x = torch.relu(self.bn1(self.conv1(x)))\n",
    "        x = self.layer1(x)\n",
    "        x = self.layer2(x)\n",
    "        x = self.layer3(x)\n",
    "        x = self.layer4(x)\n",
    "        x = F.adaptive_avg_pool2d(x, 1)\n",
    "        x = x.view(x.size(0), -1)\n",
    "        x = self.linear(x)\n",
    "        mu = x[:, :self.z_dim]\n",
    "        logvar = x[:, self.z_dim:]\n",
    "        return mu, logvar"
   ]
  },
  {
   "cell_type": "code",
   "execution_count": 9,
   "id": "88ff1224",
   "metadata": {
    "execution": {
     "iopub.execute_input": "2024-03-25T13:41:29.084171Z",
     "iopub.status.busy": "2024-03-25T13:41:29.083521Z",
     "iopub.status.idle": "2024-03-25T13:41:29.094187Z",
     "shell.execute_reply": "2024-03-25T13:41:29.093342Z"
    },
    "papermill": {
     "duration": 0.021949,
     "end_time": "2024-03-25T13:41:29.096128",
     "exception": false,
     "start_time": "2024-03-25T13:41:29.074179",
     "status": "completed"
    },
    "tags": []
   },
   "outputs": [],
   "source": [
    "class ResNet18Dec(nn.Module):\n",
    "\n",
    "    def __init__(self, num_Blocks=[2,2,2,2], z_dim=10, nc=3):\n",
    "        super().__init__()\n",
    "        self.in_planes = 512\n",
    "\n",
    "        self.linear = nn.Linear(z_dim, 512)\n",
    "\n",
    "        self.layer4 = self._make_layer(BasicBlockDec, 256, num_Blocks[3], stride=2)\n",
    "        self.layer3 = self._make_layer(BasicBlockDec, 128, num_Blocks[2], stride=2)\n",
    "        self.layer2 = self._make_layer(BasicBlockDec, 64, num_Blocks[1], stride=2)\n",
    "        self.layer1 = self._make_layer(BasicBlockDec, 64, num_Blocks[0], stride=1)\n",
    "        #self.conv1 = ResizeConv2d(64, nc, kernel_size=3, scale_factor=2)\n",
    "        self.conv1 = ResizeConv2d(64, nc, kernel_size=3, scale_factor=1)\n",
    "        \n",
    "\n",
    "    def _make_layer(self, BasicBlockDec, planes, num_Blocks, stride):\n",
    "        strides = [stride] + [1]*(num_Blocks-1)\n",
    "        layers = []\n",
    "        for stride in reversed(strides):\n",
    "            layers += [BasicBlockDec(self.in_planes, stride)]\n",
    "        self.in_planes = planes\n",
    "        return nn.Sequential(*layers)\n",
    "\n",
    "    def forward(self, z):\n",
    "        x = self.linear(z)\n",
    "        x = x.view(z.size(0), 512, 1, 1)       #reshaped to have dimensions (batch_size, 512, 1, 1)\n",
    "        x = F.interpolate(x, scale_factor=4)\n",
    "        x = self.layer4(x)\n",
    "        x = self.layer3(x)\n",
    "        x = self.layer2(x)\n",
    "        x = self.layer1(x)\n",
    "        x = torch.sigmoid(self.conv1(x))\n",
    "        \n",
    "        #x = x.view(x.size(0), 3, 64, 64)\n",
    "        x = x.view(x.size(0), 3, 32, 32)\n",
    "\n",
    "        return x"
   ]
  },
  {
   "cell_type": "code",
   "execution_count": 10,
   "id": "3b4e78a3",
   "metadata": {
    "execution": {
     "iopub.execute_input": "2024-03-25T13:41:29.114611Z",
     "iopub.status.busy": "2024-03-25T13:41:29.114369Z",
     "iopub.status.idle": "2024-03-25T13:41:29.125969Z",
     "shell.execute_reply": "2024-03-25T13:41:29.125124Z"
    },
    "papermill": {
     "duration": 0.023019,
     "end_time": "2024-03-25T13:41:29.127848",
     "exception": false,
     "start_time": "2024-03-25T13:41:29.104829",
     "status": "completed"
    },
    "tags": []
   },
   "outputs": [],
   "source": [
    "class VAE(nn.Module):\n",
    "\n",
    "    def __init__(self, z_dim):\n",
    "        super().__init__()\n",
    "        self.encoder = ResNet18Enc(z_dim=z_dim)\n",
    "        self.decoder = ResNet18Dec(z_dim=z_dim)\n",
    "        \n",
    "        # for the gaussian likelihood\n",
    "        self.log_scale = nn.Parameter(torch.Tensor([0.0]))\n",
    "\n",
    "    def forward(self, x):\n",
    "        mean, logvar = self.encoder(x)\n",
    "        #z = self.reparameterize(mean, logvar)\n",
    "\n",
    "        # sample z from q\n",
    "        std = torch.exp(logvar / 2)\n",
    "        q = torch.distributions.Normal(mean, std)\n",
    "        z = q.rsample()\n",
    "        \n",
    "        x_recon = self.decoder(z)   \n",
    "        \n",
    "        return x_recon, mean, logvar, z\n",
    "    \n",
    "    def gaussian_likelihood(self, x_hat, logscale, x):\n",
    "        scale = torch.exp(logscale)\n",
    "        mean = x_hat\n",
    "        dist = torch.distributions.Normal(mean, scale)\n",
    "\n",
    "        # measure prob of seeing image under p(x|z)\n",
    "        log_pxz = dist.log_prob(x)\n",
    "        return log_pxz.sum(dim=(1, 2, 3))\n",
    "    \n",
    "    def kl_divergence(self, z, mu, std):\n",
    "        # --------------------------\n",
    "        # Monte carlo KL divergence\n",
    "        # --------------------------\n",
    "        # 1. define the first two probabilities (in this case Normal for both)\n",
    "        p = torch.distributions.Normal(torch.zeros_like(mu), torch.ones_like(std))\n",
    "        q = torch.distributions.Normal(mu, std)\n",
    "\n",
    "        # 2. get the probabilities from the equation\n",
    "        log_qzx = q.log_prob(z)\n",
    "        log_pz = p.log_prob(z)\n",
    "\n",
    "        # kl\n",
    "        kl = (log_qzx - log_pz)\n",
    "        kl = kl.sum(-1)\n",
    "        return kl\n",
    "    \n",
    "    def loss(self, x_hat, x, z, mu, logvar):\n",
    "        \n",
    "        # reconstruction loss\n",
    "        recon_loss = self.gaussian_likelihood(x_hat, self.log_scale, x)\n",
    "\n",
    "        # kl\n",
    "        std = torch.exp(logvar / 2)\n",
    "        kl = self.kl_divergence(z, mu, std)\n",
    "\n",
    "        # elbo\n",
    "        #print(kl,recon_loss)\n",
    "        elbo = (kl - recon_loss)\n",
    "        elbo = elbo.mean()\n",
    "        return elbo\n",
    "    \n",
    "    @staticmethod\n",
    "    def reparameterize(mean, logvar):\n",
    "        std = torch.exp(logvar / 2) # in log-space, squareroot is divide by two\n",
    "        epsilon = torch.randn_like(std)\n",
    "        return epsilon * std + mean"
   ]
  },
  {
   "cell_type": "code",
   "execution_count": 11,
   "id": "4d5be7b7",
   "metadata": {
    "execution": {
     "iopub.execute_input": "2024-03-25T13:41:29.146217Z",
     "iopub.status.busy": "2024-03-25T13:41:29.145911Z",
     "iopub.status.idle": "2024-03-25T13:41:29.777549Z",
     "shell.execute_reply": "2024-03-25T13:41:29.776192Z"
    },
    "papermill": {
     "duration": 0.643658,
     "end_time": "2024-03-25T13:41:29.780202",
     "exception": false,
     "start_time": "2024-03-25T13:41:29.136544",
     "status": "completed"
    },
    "tags": []
   },
   "outputs": [
    {
     "name": "stdout",
     "output_type": "stream",
     "text": [
      "VAE Loss: 4423.3388671875\n"
     ]
    }
   ],
   "source": [
    "# Get a batch of images and labels\n",
    "dataiter = iter(trainloader)\n",
    "images, _ = next(dataiter)\n",
    "\n",
    "# Forward pass through VAE model to obtain reconstructed images, mean, and log variance\n",
    "vae_model_ins = VAE(z_dim=32)\n",
    "recon_images, mu, logvar, z = vae_model_ins(images)\n",
    "\n",
    "# Compute VAE loss\n",
    "loss = vae_model_ins.loss(recon_images, images, z, mu, logvar)\n",
    "# Print the loss\n",
    "\n",
    "print(\"VAE Loss:\", loss.item())"
   ]
  },
  {
   "cell_type": "markdown",
   "id": "b74804bb",
   "metadata": {
    "papermill": {
     "duration": 0.008901,
     "end_time": "2024-03-25T13:41:29.798560",
     "exception": false,
     "start_time": "2024-03-25T13:41:29.789659",
     "status": "completed"
    },
    "tags": []
   },
   "source": [
    "# Training"
   ]
  },
  {
   "cell_type": "code",
   "execution_count": 12,
   "id": "0c62d1b3",
   "metadata": {
    "execution": {
     "iopub.execute_input": "2024-03-25T13:41:29.818849Z",
     "iopub.status.busy": "2024-03-25T13:41:29.818476Z",
     "iopub.status.idle": "2024-03-25T13:41:29.897744Z",
     "shell.execute_reply": "2024-03-25T13:41:29.896639Z"
    },
    "papermill": {
     "duration": 0.092058,
     "end_time": "2024-03-25T13:41:29.899717",
     "exception": false,
     "start_time": "2024-03-25T13:41:29.807659",
     "status": "completed"
    },
    "tags": []
   },
   "outputs": [
    {
     "name": "stdout",
     "output_type": "stream",
     "text": [
      "cuda:0\n"
     ]
    }
   ],
   "source": [
    "device = torch.device('cuda:0' if torch.cuda.is_available() else 'cpu')\n",
    "print(device)"
   ]
  },
  {
   "cell_type": "code",
   "execution_count": 13,
   "id": "68f72365",
   "metadata": {
    "execution": {
     "iopub.execute_input": "2024-03-25T13:41:29.920499Z",
     "iopub.status.busy": "2024-03-25T13:41:29.920163Z",
     "iopub.status.idle": "2024-03-25T13:41:30.395389Z",
     "shell.execute_reply": "2024-03-25T13:41:30.394586Z"
    },
    "papermill": {
     "duration": 0.488735,
     "end_time": "2024-03-25T13:41:30.397737",
     "exception": false,
     "start_time": "2024-03-25T13:41:29.909002",
     "status": "completed"
    },
    "tags": []
   },
   "outputs": [],
   "source": [
    "from torch.optim import Adam,SGD\n",
    "from torch.optim.lr_scheduler import StepLR,ExponentialLR\n",
    "\n",
    "\n",
    "vae_model = VAE(z_dim=32)\n",
    "vae_model.to(device)\n",
    "\n",
    "optimizer = Adam(vae_model.parameters())\n",
    "scheduler = ExponentialLR(optimizer, gamma=0.99)"
   ]
  },
  {
   "cell_type": "code",
   "execution_count": 14,
   "id": "6b79ec4c",
   "metadata": {
    "execution": {
     "iopub.execute_input": "2024-03-25T13:41:30.417748Z",
     "iopub.status.busy": "2024-03-25T13:41:30.417426Z",
     "iopub.status.idle": "2024-03-25T13:47:34.270917Z",
     "shell.execute_reply": "2024-03-25T13:47:34.269640Z"
    },
    "papermill": {
     "duration": 363.865707,
     "end_time": "2024-03-25T13:47:34.272918",
     "exception": false,
     "start_time": "2024-03-25T13:41:30.407211",
     "status": "completed"
    },
    "tags": []
   },
   "outputs": [
    {
     "data": {
      "application/vnd.jupyter.widget-view+json": {
       "model_id": "3eb0bf592dc74497a15ad95cec8bf001",
       "version_major": 2,
       "version_minor": 0
      },
      "text/plain": [
       "Training Progress: 0it [00:00, ?it/s]"
      ]
     },
     "metadata": {},
     "output_type": "display_data"
    },
    {
     "name": "stdout",
     "output_type": "stream",
     "text": [
      "[1,  1000] loss: 2521.994\n",
      "[1,  2000] loss: 2232.543\n",
      "[1,  3000] loss: 2201.883\n",
      "[1,  4000] loss: 2165.690\n",
      "[1,  5000] loss: 2104.249\n",
      "[1,  6000] loss: 2093.447\n",
      "[1,  7000] loss: 2018.486\n",
      "[1,  8000] loss: 1963.284\n",
      "[1,  9000] loss: 1926.314\n",
      "[1, 10000] loss: 1877.848\n",
      "[1, 11000] loss: 1871.142\n",
      "[1, 12000] loss: 1844.281\n",
      "1 loss: 514.630\n",
      "Training Finished... \n"
     ]
    }
   ],
   "source": [
    "from tqdm.auto import tqdm\n",
    "\n",
    "loss_values=[]\n",
    "\n",
    "for epoch in range(1): \n",
    "    vae_model.train()\n",
    "    running_loss = 0.0\n",
    "    epoch_loss=0.0\n",
    "    for i, data in tqdm(enumerate(trainloader, 0), desc=\"Training Progress\"):\n",
    "        # get the inputs; data is a list of [inputs, labels]\n",
    "        inputs, labels = data[0].to(device), data[1].to(device)\n",
    "        \n",
    "        # zero the parameter gradients\n",
    "        optimizer.zero_grad()\n",
    "\n",
    "        # forward + backward + optimize\n",
    "        x_hat, mu, logvar,z = vae_model(inputs)\n",
    "        loss = vae_model.loss(x_hat, inputs, z, mu, logvar)\n",
    "        loss.backward()\n",
    "        optimizer.step()\n",
    "        \n",
    "\n",
    "        # print statistics\n",
    "        running_loss += loss.item() \n",
    "        epoch_loss += loss.item() \n",
    "\n",
    "        if i % 1000 == 999:    # print every 1000 mini-batches\n",
    "            print(f'[{epoch + 1}, {i + 1:5d}] loss: {running_loss / 1000:.3f}')\n",
    "            running_loss = 0.0\n",
    "    epoch_loss /= len(trainloader) * batch_size\n",
    "    loss_values.append(epoch_loss) \n",
    "    print(f'{epoch + 1} loss: {epoch_loss:.3f}')\n",
    "    scheduler.step()\n",
    "print('Training Finished... ')"
   ]
  },
  {
   "cell_type": "code",
   "execution_count": 15,
   "id": "6400d2eb",
   "metadata": {
    "execution": {
     "iopub.execute_input": "2024-03-25T13:47:34.294869Z",
     "iopub.status.busy": "2024-03-25T13:47:34.294552Z",
     "iopub.status.idle": "2024-03-25T13:47:34.438230Z",
     "shell.execute_reply": "2024-03-25T13:47:34.437323Z"
    },
    "papermill": {
     "duration": 0.157158,
     "end_time": "2024-03-25T13:47:34.440619",
     "exception": false,
     "start_time": "2024-03-25T13:47:34.283461",
     "status": "completed"
    },
    "tags": []
   },
   "outputs": [],
   "source": [
    "PATH = './cifar_net.pth'\n",
    "torch.save(vae_model.state_dict(), PATH)"
   ]
  },
  {
   "cell_type": "code",
   "execution_count": 16,
   "id": "bab929ab",
   "metadata": {
    "execution": {
     "iopub.execute_input": "2024-03-25T13:47:34.462547Z",
     "iopub.status.busy": "2024-03-25T13:47:34.462255Z",
     "iopub.status.idle": "2024-03-25T13:47:34.832516Z",
     "shell.execute_reply": "2024-03-25T13:47:34.831528Z"
    },
    "papermill": {
     "duration": 0.383299,
     "end_time": "2024-03-25T13:47:34.834601",
     "exception": false,
     "start_time": "2024-03-25T13:47:34.451302",
     "status": "completed"
    },
    "tags": []
   },
   "outputs": [
    {
     "data": {
      "text/plain": [
       "<All keys matched successfully>"
      ]
     },
     "execution_count": 16,
     "metadata": {},
     "output_type": "execute_result"
    }
   ],
   "source": [
    "vae_model1 = VAE(z_dim=32)\n",
    "vae_model1.load_state_dict(torch.load(PATH))"
   ]
  },
  {
   "cell_type": "code",
   "execution_count": 17,
   "id": "b787fd3e",
   "metadata": {
    "execution": {
     "iopub.execute_input": "2024-03-25T13:47:34.857224Z",
     "iopub.status.busy": "2024-03-25T13:47:34.856909Z",
     "iopub.status.idle": "2024-03-25T13:47:35.163129Z",
     "shell.execute_reply": "2024-03-25T13:47:35.161955Z"
    },
    "papermill": {
     "duration": 0.319941,
     "end_time": "2024-03-25T13:47:35.165188",
     "exception": false,
     "start_time": "2024-03-25T13:47:34.845247",
     "status": "completed"
    },
    "tags": []
   },
   "outputs": [
    {
     "data": {
      "image/png": "[encoded data removed]",
      "text/plain": [
       "<Figure size 640x480 with 1 Axes>"
      ]
     },
     "metadata": {},
     "output_type": "display_data"
    }
   ],
   "source": [
    "dataiter = iter(testloader)\n",
    "images, labels = next(dataiter)\n",
    "\n",
    "# print images\n",
    "imshow(torchvision.utils.make_grid(images))\n",
    "#print('GroundTruth: ', ' '.join(f'{classes[labels[j]]:5s}' for j in range(4)))"
   ]
  },
  {
   "cell_type": "code",
   "execution_count": 18,
   "id": "f2f9bd0a",
   "metadata": {
    "execution": {
     "iopub.execute_input": "2024-03-25T13:47:35.187967Z",
     "iopub.status.busy": "2024-03-25T13:47:35.187639Z",
     "iopub.status.idle": "2024-03-25T13:47:35.518983Z",
     "shell.execute_reply": "2024-03-25T13:47:35.518062Z"
    },
    "papermill": {
     "duration": 0.345335,
     "end_time": "2024-03-25T13:47:35.521335",
     "exception": false,
     "start_time": "2024-03-25T13:47:35.176000",
     "status": "completed"
    },
    "tags": []
   },
   "outputs": [
    {
     "data": {
      "image/png": "[encoded data removed]",
      "text/plain": [
       "<Figure size 640x480 with 1 Axes>"
      ]
     },
     "metadata": {},
     "output_type": "display_data"
    }
   ],
   "source": [
    "outputs, _, _, _ = vae_model1(images)\n",
    "imshow(torchvision.utils.make_grid(outputs))"
   ]
  },
  {
   "cell_type": "code",
   "execution_count": 19,
   "id": "9e1fd6e7",
   "metadata": {
    "execution": {
     "iopub.execute_input": "2024-03-25T13:47:35.546127Z",
     "iopub.status.busy": "2024-03-25T13:47:35.545844Z",
     "iopub.status.idle": "2024-03-25T13:47:35.551661Z",
     "shell.execute_reply": "2024-03-25T13:47:35.550744Z"
    },
    "papermill": {
     "duration": 0.020144,
     "end_time": "2024-03-25T13:47:35.553541",
     "exception": false,
     "start_time": "2024-03-25T13:47:35.533397",
     "status": "completed"
    },
    "tags": []
   },
   "outputs": [
    {
     "data": {
      "text/plain": [
       "[514.6304628784179]"
      ]
     },
     "execution_count": 19,
     "metadata": {},
     "output_type": "execute_result"
    }
   ],
   "source": [
    "loss_values"
   ]
  },
  {
   "cell_type": "code",
   "execution_count": 20,
   "id": "0567173a",
   "metadata": {
    "execution": {
     "iopub.execute_input": "2024-03-25T13:47:35.576520Z",
     "iopub.status.busy": "2024-03-25T13:47:35.576249Z",
     "iopub.status.idle": "2024-03-25T13:47:35.822822Z",
     "shell.execute_reply": "2024-03-25T13:47:35.821906Z"
    },
    "papermill": {
     "duration": 0.260688,
     "end_time": "2024-03-25T13:47:35.825013",
     "exception": false,
     "start_time": "2024-03-25T13:47:35.564325",
     "status": "completed"
    },
    "tags": []
   },
   "outputs": [
    {
     "data": {
      "image/png": "[encoded data removed]",
      "text/plain": [
       "<Figure size 640x480 with 1 Axes>"
      ]
     },
     "metadata": {},
     "output_type": "display_data"
    }
   ],
   "source": [
    "plt.plot(loss_values)\n",
    "plt.grid()"
   ]
  }
 ],
 "metadata": {
  "kaggle": {
   "accelerator": "nvidiaTeslaT4",
   "dataSources": [],
   "dockerImageVersionId": 30664,
   "isGpuEnabled": true,
   "isInternetEnabled": true,
   "language": "python",
   "sourceType": "notebook"
  },
  "kernelspec": {
   "display_name": "Python 3",
   "language": "python",
   "name": "python3"
  },
  "language_info": {
   "codemirror_mode": {
    "name": "ipython",
    "version": 3
   },
   "file_extension": ".py",
   "mimetype": "text/x-python",
   "name": "python",
   "nbconvert_exporter": "python",
   "pygments_lexer": "ipython3",
   "version": "3.10.13"
  },
  "papermill": {
   "default_parameters": {},
   "duration": 387.023163,
   "end_time": "2024-03-25T13:47:38.557383",
   "environment_variables": {},
   "exception": null,
   "input_path": "__notebook__.ipynb",
   "output_path": "__notebook__.ipynb",
   "parameters": {},
   "start_time": "2024-03-25T13:41:11.534220",
   "version": "2.5.0"
  },
  "widgets": {
   "application/vnd.jupyter.widget-state+json": {
    "state": {
     "01df1edf89394406bc9a1ad70316da5c": {
      "model_module": "@jupyter-widgets/controls",
      "model_module_version": "1.5.0",
      "model_name": "HTMLModel",
      "state": {
       "_dom_classes": [],
       "_model_module": "@jupyter-widgets/controls",
       "_model_module_version": "1.5.0",
       "_model_name": "HTMLModel",
       "_view_count": null,
       "_view_module": "@jupyter-widgets/controls",
       "_view_module_version": "1.5.0",
       "_view_name": "HTMLView",
       "description": "",
       "description_tooltip": null,
       "layout": "IPY_MODEL_6a3640b96fcb41f593e907f0ec5bdfaf",
       "placeholder": "​",
       "style": "IPY_MODEL_0bd44607181444cb876cc0afe0a1eef0",
       "value": "Training Progress: "
      }
     },
     "036bb1ce76004a01999a88057d33100d": {
      "model_module": "@jupyter-widgets/controls",
      "model_module_version": "1.5.0",
      "model_name": "HTMLModel",
      "state": {
       "_dom_classes": [],
       "_model_module": "@jupyter-widgets/controls",
       "_model_module_version": "1.5.0",
       "_model_name": "HTMLModel",
       "_view_count": null,
       "_view_module": "@jupyter-widgets/controls",
       "_view_module_version": "1.5.0",
       "_view_name": "HTMLView",
       "description": "",
       "description_tooltip": null,
       "layout": "IPY_MODEL_9de2a673c79d4a38a602b33a3bd4132f",
       "placeholder": "​",
       "style": "IPY_MODEL_bac1d14560084b9e81fb236d970db882",
       "value": " 12500/? [06:03&lt;00:00, 34.48it/s]"
      }
     },
     "0bd44607181444cb876cc0afe0a1eef0": {
      "model_module": "@jupyter-widgets/controls",
      "model_module_version": "1.5.0",
      "model_name": "DescriptionStyleModel",
      "state": {
       "_model_module": "@jupyter-widgets/controls",
       "_model_module_version": "1.5.0",
       "_model_name": "DescriptionStyleModel",
       "_view_count": null,
       "_view_module": "@jupyter-widgets/base",
       "_view_module_version": "1.2.0",
       "_view_name": "StyleView",
       "description_width": ""
      }
     },
     "3eb0bf592dc74497a15ad95cec8bf001": {
      "model_module": "@jupyter-widgets/controls",
      "model_module_version": "1.5.0",
      "model_name": "HBoxModel",
      "state": {
       "_dom_classes": [],
       "_model_module": "@jupyter-widgets/controls",
       "_model_module_version": "1.5.0",
       "_model_name": "HBoxModel",
       "_view_count": null,
       "_view_module": "@jupyter-widgets/controls",
       "_view_module_version": "1.5.0",
       "_view_name": "HBoxView",
       "box_style": "",
       "children": [
        "IPY_MODEL_01df1edf89394406bc9a1ad70316da5c",
        "IPY_MODEL_e19595671a114d3195cb09dacaa7c8f4",
        "IPY_MODEL_036bb1ce76004a01999a88057d33100d"
       ],
       "layout": "IPY_MODEL_ead112df1cba485daed12cc0966ec124"
      }
     },
     "6a3640b96fcb41f593e907f0ec5bdfaf": {
      "model_module": "@jupyter-widgets/base",
      "model_module_version": "1.2.0",
      "model_name": "LayoutModel",
      "state": {
       "_model_module": "@jupyter-widgets/base",
       "_model_module_version": "1.2.0",
       "_model_name": "LayoutModel",
       "_view_count": null,
       "_view_module": "@jupyter-widgets/base",
       "_view_module_version": "1.2.0",
       "_view_name": "LayoutView",
       "align_content": null,
       "align_items": null,
       "align_self": null,
       "border": null,
       "bottom": null,
       "display": null,
       "flex": null,
       "flex_flow": null,
       "grid_area": null,
       "grid_auto_columns": null,
       "grid_auto_flow": null,
       "grid_auto_rows": null,
       "grid_column": null,
       "grid_gap": null,
       "grid_row": null,
       "grid_template_areas": null,
       "grid_template_columns": null,
       "grid_template_rows": null,
       "height": null,
       "justify_content": null,
       "justify_items": null,
       "left": null,
       "margin": null,
       "max_height": null,
       "max_width": null,
       "min_height": null,
       "min_width": null,
       "object_fit": null,
       "object_position": null,
       "order": null,
       "overflow": null,
       "overflow_x": null,
       "overflow_y": null,
       "padding": null,
       "right": null,
       "top": null,
       "visibility": null,
       "width": null
      }
     },
     "9de2a673c79d4a38a602b33a3bd4132f": {
      "model_module": "@jupyter-widgets/base",
      "model_module_version": "1.2.0",
      "model_name": "LayoutModel",
      "state": {
       "_model_module": "@jupyter-widgets/base",
       "_model_module_version": "1.2.0",
       "_model_name": "LayoutModel",
       "_view_count": null,
       "_view_module": "@jupyter-widgets/base",
       "_view_module_version": "1.2.0",
       "_view_name": "LayoutView",
       "align_content": null,
       "align_items": null,
       "align_self": null,
       "border": null,
       "bottom": null,
       "display": null,
       "flex": null,
       "flex_flow": null,
       "grid_area": null,
       "grid_auto_columns": null,
       "grid_auto_flow": null,
       "grid_auto_rows": null,
       "grid_column": null,
       "grid_gap": null,
       "grid_row": null,
       "grid_template_areas": null,
       "grid_template_columns": null,
       "grid_template_rows": null,
       "height": null,
       "justify_content": null,
       "justify_items": null,
       "left": null,
       "margin": null,
       "max_height": null,
       "max_width": null,
       "min_height": null,
       "min_width": null,
       "object_fit": null,
       "object_position": null,
       "order": null,
       "overflow": null,
       "overflow_x": null,
       "overflow_y": null,
       "padding": null,
       "right": null,
       "top": null,
       "visibility": null,
       "width": null
      }
     },
     "bac1d14560084b9e81fb236d970db882": {
      "model_module": "@jupyter-widgets/controls",
      "model_module_version": "1.5.0",
      "model_name": "DescriptionStyleModel",
      "state": {
       "_model_module": "@jupyter-widgets/controls",
       "_model_module_version": "1.5.0",
       "_model_name": "DescriptionStyleModel",
       "_view_count": null,
       "_view_module": "@jupyter-widgets/base",
       "_view_module_version": "1.2.0",
       "_view_name": "StyleView",
       "description_width": ""
      }
     },
     "d9f355fd5ad24edba3f2f63440263fc2": {
      "model_module": "@jupyter-widgets/controls",
      "model_module_version": "1.5.0",
      "model_name": "ProgressStyleModel",
      "state": {
       "_model_module": "@jupyter-widgets/controls",
       "_model_module_version": "1.5.0",
       "_model_name": "ProgressStyleModel",
       "_view_count": null,
       "_view_module": "@jupyter-widgets/base",
       "_view_module_version": "1.2.0",
       "_view_name": "StyleView",
       "bar_color": null,
       "description_width": ""
      }
     },
     "dc0c1d175d174b889b2c5da4db581b2e": {
      "model_module": "@jupyter-widgets/base",
      "model_module_version": "1.2.0",
      "model_name": "LayoutModel",
      "state": {
       "_model_module": "@jupyter-widgets/base",
       "_model_module_version": "1.2.0",
       "_model_name": "LayoutModel",
       "_view_count": null,
       "_view_module": "@jupyter-widgets/base",
       "_view_module_version": "1.2.0",
       "_view_name": "LayoutView",
       "align_content": null,
       "align_items": null,
       "align_self": null,
       "border": null,
       "bottom": null,
       "display": null,
       "flex": null,
       "flex_flow": null,
       "grid_area": null,
       "grid_auto_columns": null,
       "grid_auto_flow": null,
       "grid_auto_rows": null,
       "grid_column": null,
       "grid_gap": null,
       "grid_row": null,
       "grid_template_areas": null,
       "grid_template_columns": null,
       "grid_template_rows": null,
       "height": null,
       "justify_content": null,
       "justify_items": null,
       "left": null,
       "margin": null,
       "max_height": null,
       "max_width": null,
       "min_height": null,
       "min_width": null,
       "object_fit": null,
       "object_position": null,
       "order": null,
       "overflow": null,
       "overflow_x": null,
       "overflow_y": null,
       "padding": null,
       "right": null,
       "top": null,
       "visibility": null,
       "width": "20px"
      }
     },
     "e19595671a114d3195cb09dacaa7c8f4": {
      "model_module": "@jupyter-widgets/controls",
      "model_module_version": "1.5.0",
      "model_name": "FloatProgressModel",
      "state": {
       "_dom_classes": [],
       "_model_module": "@jupyter-widgets/controls",
       "_model_module_version": "1.5.0",
       "_model_name": "FloatProgressModel",
       "_view_count": null,
       "_view_module": "@jupyter-widgets/controls",
       "_view_module_version": "1.5.0",
       "_view_name": "ProgressView",
       "bar_style": "success",
       "description": "",
       "description_tooltip": null,
       "layout": "IPY_MODEL_dc0c1d175d174b889b2c5da4db581b2e",
       "max": 1.0,
       "min": 0.0,
       "orientation": "horizontal",
       "style": "IPY_MODEL_d9f355fd5ad24edba3f2f63440263fc2",
       "value": 1.0
      }
     },
     "ead112df1cba485daed12cc0966ec124": {
      "model_module": "@jupyter-widgets/base",
      "model_module_version": "1.2.0",
      "model_name": "LayoutModel",
      "state": {
       "_model_module": "@jupyter-widgets/base",
       "_model_module_version": "1.2.0",
       "_model_name": "LayoutModel",
       "_view_count": null,
       "_view_module": "@jupyter-widgets/base",
       "_view_module_version": "1.2.0",
       "_view_name": "LayoutView",
       "align_content": null,
       "align_items": null,
       "align_self": null,
       "border": null,
       "bottom": null,
       "display": null,
       "flex": null,
       "flex_flow": null,
       "grid_area": null,
       "grid_auto_columns": null,
       "grid_auto_flow": null,
       "grid_auto_rows": null,
       "grid_column": null,
       "grid_gap": null,
       "grid_row": null,
       "grid_template_areas": null,
       "grid_template_columns": null,
       "grid_template_rows": null,
       "height": null,
       "justify_content": null,
       "justify_items": null,
       "left": null,
       "margin": null,
       "max_height": null,
       "max_width": null,
       "min_height": null,
       "min_width": null,
       "object_fit": null,
       "object_position": null,
       "order": null,
       "overflow": null,
       "overflow_x": null,
       "overflow_y": null,
       "padding": null,
       "right": null,
       "top": null,
       "visibility": null,
       "width": null
      }
     }
    },
    "version_major": 2,
    "version_minor": 0
   }
  }
 },
 "nbformat": 4,
 "nbformat_minor": 5
}
