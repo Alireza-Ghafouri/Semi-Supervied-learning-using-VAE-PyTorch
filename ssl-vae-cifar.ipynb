{
 "cells": [
  {
   "cell_type": "markdown",
   "id": "78f066b4",
   "metadata": {
    "papermill": {
     "duration": 0.007316,
     "end_time": "2024-03-07T14:20:07.050522",
     "exception": false,
     "start_time": "2024-03-07T14:20:07.043206",
     "status": "completed"
    },
    "tags": []
   },
   "source": [
    "# Data Loader"
   ]
  },
  {
   "cell_type": "code",
   "execution_count": 1,
   "id": "2b95d50b",
   "metadata": {
    "execution": {
     "iopub.execute_input": "2024-03-07T14:20:07.066356Z",
     "iopub.status.busy": "2024-03-07T14:20:07.065909Z",
     "iopub.status.idle": "2024-03-07T14:20:14.886772Z",
     "shell.execute_reply": "2024-03-07T14:20:14.885809Z"
    },
    "papermill": {
     "duration": 7.831729,
     "end_time": "2024-03-07T14:20:14.889130",
     "exception": false,
     "start_time": "2024-03-07T14:20:07.057401",
     "status": "completed"
    },
    "tags": []
   },
   "outputs": [],
   "source": [
    "import torch\n",
    "import torchvision\n",
    "import torchvision.transforms as transforms"
   ]
  },
  {
   "cell_type": "code",
   "execution_count": 2,
   "id": "6f93bafa",
   "metadata": {
    "execution": {
     "iopub.execute_input": "2024-03-07T14:20:14.904306Z",
     "iopub.status.busy": "2024-03-07T14:20:14.903753Z",
     "iopub.status.idle": "2024-03-07T14:20:20.944347Z",
     "shell.execute_reply": "2024-03-07T14:20:20.943373Z"
    },
    "papermill": {
     "duration": 6.050449,
     "end_time": "2024-03-07T14:20:20.946659",
     "exception": false,
     "start_time": "2024-03-07T14:20:14.896210",
     "status": "completed"
    },
    "tags": []
   },
   "outputs": [
    {
     "name": "stdout",
     "output_type": "stream",
     "text": [
      "Downloading https://www.cs.toronto.edu/~kriz/cifar-10-python.tar.gz to ./data/cifar-10-python.tar.gz\n"
     ]
    },
    {
     "name": "stderr",
     "output_type": "stream",
     "text": [
      "100%|██████████| 170498071/170498071 [00:02<00:00, 67294695.37it/s] \n"
     ]
    },
    {
     "name": "stdout",
     "output_type": "stream",
     "text": [
      "Extracting ./data/cifar-10-python.tar.gz to ./data\n",
      "Files already downloaded and verified\n"
     ]
    }
   ],
   "source": [
    "transform = transforms.Compose(\n",
    "    [transforms.ToTensor(),\n",
    "     transforms.Normalize((0.5, 0.5, 0.5), (0.5, 0.5, 0.5))])\n",
    "\n",
    "batch_size = 4\n",
    "\n",
    "trainset = torchvision.datasets.CIFAR10(root='./data', train=True,\n",
    "                                        download=True, transform=transform)\n",
    "trainloader = torch.utils.data.DataLoader(trainset, batch_size=batch_size,\n",
    "                                          shuffle=True, num_workers=2)\n",
    "\n",
    "testset = torchvision.datasets.CIFAR10(root='./data', train=False,\n",
    "                                       download=True, transform=transform)\n",
    "testloader = torch.utils.data.DataLoader(testset, batch_size=batch_size,\n",
    "                                         shuffle=False, num_workers=2)\n",
    "\n",
    "classes = ('plane', 'car', 'bird', 'cat',\n",
    "           'deer', 'dog', 'frog', 'horse', 'ship', 'truck')"
   ]
  },
  {
   "cell_type": "code",
   "execution_count": 3,
   "id": "583cb789",
   "metadata": {
    "execution": {
     "iopub.execute_input": "2024-03-07T14:20:20.966390Z",
     "iopub.status.busy": "2024-03-07T14:20:20.966087Z",
     "iopub.status.idle": "2024-03-07T14:20:21.399891Z",
     "shell.execute_reply": "2024-03-07T14:20:21.398826Z"
    },
    "papermill": {
     "duration": 0.446024,
     "end_time": "2024-03-07T14:20:21.402215",
     "exception": false,
     "start_time": "2024-03-07T14:20:20.956191",
     "status": "completed"
    },
    "tags": []
   },
   "outputs": [
    {
     "data": {
      "image/png": "[encoded data removed]",
      "text/plain": [
       "<Figure size 640x480 with 1 Axes>"
      ]
     },
     "metadata": {},
     "output_type": "display_data"
    },
    {
     "name": "stdout",
     "output_type": "stream",
     "text": [
      "cat   cat   deer  dog  \n"
     ]
    }
   ],
   "source": [
    "import matplotlib.pyplot as plt\n",
    "import numpy as np\n",
    "\n",
    "# functions to show an image\n",
    "\n",
    "\n",
    "def imshow(img):\n",
    "    img = img / 2 + 0.5     # unnormalize\n",
    "    npimg = img.numpy()\n",
    "    plt.imshow(np.transpose(npimg, (1, 2, 0)))\n",
    "    plt.show()\n",
    "\n",
    "\n",
    "# get some random training images\n",
    "dataiter = iter(trainloader)\n",
    "images, labels = next(dataiter)\n",
    "\n",
    "# show images\n",
    "imshow(torchvision.utils.make_grid(images))\n",
    "# print labels\n",
    "print(' '.join(f'{classes[labels[j]]:5s}' for j in range(batch_size)))"
   ]
  },
  {
   "cell_type": "markdown",
   "id": "a5e7c58b",
   "metadata": {
    "papermill": {
     "duration": 0.009497,
     "end_time": "2024-03-07T14:20:21.421505",
     "exception": false,
     "start_time": "2024-03-07T14:20:21.412008",
     "status": "completed"
    },
    "tags": []
   },
   "source": [
    "# Model"
   ]
  },
  {
   "cell_type": "code",
   "execution_count": 4,
   "id": "36a22acc",
   "metadata": {
    "execution": {
     "iopub.execute_input": "2024-03-07T14:20:21.442560Z",
     "iopub.status.busy": "2024-03-07T14:20:21.441956Z",
     "iopub.status.idle": "2024-03-07T14:20:21.446773Z",
     "shell.execute_reply": "2024-03-07T14:20:21.445944Z"
    },
    "papermill": {
     "duration": 0.017452,
     "end_time": "2024-03-07T14:20:21.448619",
     "exception": false,
     "start_time": "2024-03-07T14:20:21.431167",
     "status": "completed"
    },
    "tags": []
   },
   "outputs": [],
   "source": [
    "from torch import nn, optim\n",
    "import torch.nn.functional as F\n",
    "import torch.nn.init as init\n"
   ]
  },
  {
   "cell_type": "code",
   "execution_count": 5,
   "id": "df0a1d59",
   "metadata": {
    "execution": {
     "iopub.execute_input": "2024-03-07T14:20:21.468795Z",
     "iopub.status.busy": "2024-03-07T14:20:21.468527Z",
     "iopub.status.idle": "2024-03-07T14:20:21.474631Z",
     "shell.execute_reply": "2024-03-07T14:20:21.473782Z"
    },
    "papermill": {
     "duration": 0.01839,
     "end_time": "2024-03-07T14:20:21.476557",
     "exception": false,
     "start_time": "2024-03-07T14:20:21.458167",
     "status": "completed"
    },
    "tags": []
   },
   "outputs": [],
   "source": [
    "class ResizeConv2d(nn.Module):\n",
    "\n",
    "    def __init__(self, in_channels, out_channels, kernel_size, scale_factor, mode='nearest'):\n",
    "        super().__init__()\n",
    "        self.scale_factor = scale_factor\n",
    "        self.mode = mode\n",
    "        self.conv = nn.Conv2d(in_channels, out_channels, kernel_size, stride=1, padding=1)\n",
    "\n",
    "    def forward(self, x):\n",
    "        x = F.interpolate(x, scale_factor=self.scale_factor, mode=self.mode)\n",
    "        x = self.conv(x)\n",
    "        return x"
   ]
  },
  {
   "cell_type": "code",
   "execution_count": 6,
   "id": "61c5b72d",
   "metadata": {
    "execution": {
     "iopub.execute_input": "2024-03-07T14:20:21.497721Z",
     "iopub.status.busy": "2024-03-07T14:20:21.497466Z",
     "iopub.status.idle": "2024-03-07T14:20:21.505867Z",
     "shell.execute_reply": "2024-03-07T14:20:21.505082Z"
    },
    "papermill": {
     "duration": 0.020597,
     "end_time": "2024-03-07T14:20:21.507725",
     "exception": false,
     "start_time": "2024-03-07T14:20:21.487128",
     "status": "completed"
    },
    "tags": []
   },
   "outputs": [],
   "source": [
    "class BasicBlockEnc(nn.Module):\n",
    "\n",
    "    def __init__(self, in_planes, stride=1):\n",
    "        super().__init__()\n",
    "\n",
    "        planes = in_planes*stride\n",
    "\n",
    "        self.conv1 = nn.Conv2d(in_planes, planes, kernel_size=3, stride=stride, padding=1, bias=False)\n",
    "        self.bn1 = nn.BatchNorm2d(planes)\n",
    "        self.conv2 = nn.Conv2d(planes, planes, kernel_size=3, stride=1, padding=1, bias=False)\n",
    "        self.bn2 = nn.BatchNorm2d(planes)\n",
    "\n",
    "        if stride == 1:\n",
    "            self.shortcut = nn.Sequential()\n",
    "        else:\n",
    "            self.shortcut = nn.Sequential(\n",
    "                nn.Conv2d(in_planes, planes, kernel_size=1, stride=stride, bias=False),\n",
    "                nn.BatchNorm2d(planes)\n",
    "            )\n",
    "\n",
    "    def forward(self, x):\n",
    "        out = torch.relu(self.bn1(self.conv1(x)))\n",
    "        out = self.bn2(self.conv2(out))\n",
    "        out += self.shortcut(x)\n",
    "        out = torch.relu(out)\n",
    "        return out\n"
   ]
  },
  {
   "cell_type": "code",
   "execution_count": 7,
   "id": "845bb053",
   "metadata": {
    "execution": {
     "iopub.execute_input": "2024-03-07T14:20:21.527667Z",
     "iopub.status.busy": "2024-03-07T14:20:21.527412Z",
     "iopub.status.idle": "2024-03-07T14:20:21.536419Z",
     "shell.execute_reply": "2024-03-07T14:20:21.535667Z"
    },
    "papermill": {
     "duration": 0.021072,
     "end_time": "2024-03-07T14:20:21.538300",
     "exception": false,
     "start_time": "2024-03-07T14:20:21.517228",
     "status": "completed"
    },
    "tags": []
   },
   "outputs": [],
   "source": [
    "class BasicBlockDec(nn.Module):\n",
    "\n",
    "    def __init__(self, in_planes, stride=1):\n",
    "        super().__init__()\n",
    "\n",
    "        planes = int(in_planes/stride)\n",
    "\n",
    "        self.conv2 = nn.Conv2d(in_planes, in_planes, kernel_size=3, stride=1, padding=1, bias=False)\n",
    "        self.bn2 = nn.BatchNorm2d(in_planes)\n",
    "        # self.bn1 could have been placed here, but that messes up the order of the layers when printing the class\n",
    "\n",
    "        if stride == 1:\n",
    "            self.conv1 = nn.Conv2d(in_planes, planes, kernel_size=3, stride=1, padding=1, bias=False)\n",
    "            self.bn1 = nn.BatchNorm2d(planes)\n",
    "            self.shortcut = nn.Sequential()\n",
    "        else:\n",
    "            self.conv1 = ResizeConv2d(in_planes, planes, kernel_size=3, scale_factor=stride)\n",
    "            self.bn1 = nn.BatchNorm2d(planes)\n",
    "            self.shortcut = nn.Sequential(\n",
    "                ResizeConv2d(in_planes, planes, kernel_size=3, scale_factor=stride),\n",
    "                nn.BatchNorm2d(planes)\n",
    "            )\n",
    "\n",
    "    def forward(self, x):\n",
    "        out = torch.relu(self.bn2(self.conv2(x)))\n",
    "        out = self.bn1(self.conv1(out))\n",
    "        out += self.shortcut(x)\n",
    "        out = torch.relu(out)\n",
    "        return out"
   ]
  },
  {
   "cell_type": "code",
   "execution_count": 8,
   "id": "7037c39d",
   "metadata": {
    "execution": {
     "iopub.execute_input": "2024-03-07T14:20:21.558609Z",
     "iopub.status.busy": "2024-03-07T14:20:21.557935Z",
     "iopub.status.idle": "2024-03-07T14:20:21.569615Z",
     "shell.execute_reply": "2024-03-07T14:20:21.568901Z"
    },
    "papermill": {
     "duration": 0.023942,
     "end_time": "2024-03-07T14:20:21.571715",
     "exception": false,
     "start_time": "2024-03-07T14:20:21.547773",
     "status": "completed"
    },
    "tags": []
   },
   "outputs": [],
   "source": [
    "class ResNet18Enc(nn.Module):\n",
    "\n",
    "    def __init__(self, num_Blocks=[2,2,2,2], z_dim=10, nc=3):\n",
    "        super().__init__()\n",
    "        self.in_planes = 64\n",
    "        self.z_dim = z_dim\n",
    "        \n",
    "        #self.conv1 = nn.Conv2d(nc, 64, kernel_size=3, stride=2, padding=1, bias=False)\n",
    "        self.conv1 = nn.Conv2d(nc, 64, kernel_size=3, stride=1, padding=1, bias=False)\n",
    "        \n",
    "        self.bn1 = nn.BatchNorm2d(64)\n",
    "        self.layer1 = self._make_layer(BasicBlockEnc, 64, num_Blocks[0], stride=1)\n",
    "        self.layer2 = self._make_layer(BasicBlockEnc, 128, num_Blocks[1], stride=2)\n",
    "        self.layer3 = self._make_layer(BasicBlockEnc, 256, num_Blocks[2], stride=2)\n",
    "        self.layer4 = self._make_layer(BasicBlockEnc, 512, num_Blocks[3], stride=2)\n",
    "        self.linear = nn.Linear(512, 2 * z_dim)\n",
    "        \n",
    "\n",
    "    def _make_layer(self, BasicBlockEnc, planes, num_Blocks, stride):\n",
    "        strides = [stride] + [1]*(num_Blocks-1)\n",
    "        layers = []\n",
    "        for stride in strides:\n",
    "            layers += [BasicBlockEnc(self.in_planes, stride)]\n",
    "            self.in_planes = planes\n",
    "        return nn.Sequential(*layers)\n",
    "\n",
    "    def forward(self, x):\n",
    "        x = torch.relu(self.bn1(self.conv1(x)))\n",
    "        x = self.layer1(x)\n",
    "        x = self.layer2(x)\n",
    "        x = self.layer3(x)\n",
    "        x = self.layer4(x)\n",
    "        x = F.adaptive_avg_pool2d(x, 1)\n",
    "        x = x.view(x.size(0), -1)\n",
    "        x = self.linear(x)\n",
    "        mu = x[:, :self.z_dim]\n",
    "        logvar = x[:, self.z_dim:]\n",
    "        return mu, logvar"
   ]
  },
  {
   "cell_type": "code",
   "execution_count": 9,
   "id": "ac8a45b1",
   "metadata": {
    "execution": {
     "iopub.execute_input": "2024-03-07T14:20:21.591937Z",
     "iopub.status.busy": "2024-03-07T14:20:21.591680Z",
     "iopub.status.idle": "2024-03-07T14:20:21.602759Z",
     "shell.execute_reply": "2024-03-07T14:20:21.602008Z"
    },
    "papermill": {
     "duration": 0.02321,
     "end_time": "2024-03-07T14:20:21.604641",
     "exception": false,
     "start_time": "2024-03-07T14:20:21.581431",
     "status": "completed"
    },
    "tags": []
   },
   "outputs": [],
   "source": [
    "class ResNet18Dec(nn.Module):\n",
    "\n",
    "    def __init__(self, num_Blocks=[2,2,2,2], z_dim=10, nc=3):\n",
    "        super().__init__()\n",
    "        self.in_planes = 512\n",
    "\n",
    "        self.linear = nn.Linear(z_dim, 512)\n",
    "\n",
    "        self.layer4 = self._make_layer(BasicBlockDec, 256, num_Blocks[3], stride=2)\n",
    "        self.layer3 = self._make_layer(BasicBlockDec, 128, num_Blocks[2], stride=2)\n",
    "        self.layer2 = self._make_layer(BasicBlockDec, 64, num_Blocks[1], stride=2)\n",
    "        self.layer1 = self._make_layer(BasicBlockDec, 64, num_Blocks[0], stride=1)\n",
    "        #self.conv1 = ResizeConv2d(64, nc, kernel_size=3, scale_factor=2)\n",
    "        self.conv1 = ResizeConv2d(64, nc, kernel_size=3, scale_factor=1)\n",
    "        \n",
    "\n",
    "    def _make_layer(self, BasicBlockDec, planes, num_Blocks, stride):\n",
    "        strides = [stride] + [1]*(num_Blocks-1)\n",
    "        layers = []\n",
    "        for stride in reversed(strides):\n",
    "            layers += [BasicBlockDec(self.in_planes, stride)]\n",
    "        self.in_planes = planes\n",
    "        return nn.Sequential(*layers)\n",
    "\n",
    "    def forward(self, z):\n",
    "        x = self.linear(z)\n",
    "        x = x.view(z.size(0), 512, 1, 1)       #reshaped to have dimensions (batch_size, 512, 1, 1)\n",
    "        x = F.interpolate(x, scale_factor=4)\n",
    "        x = self.layer4(x)\n",
    "        x = self.layer3(x)\n",
    "        x = self.layer2(x)\n",
    "        x = self.layer1(x)\n",
    "        x = torch.sigmoid(self.conv1(x))\n",
    "        \n",
    "        #x = x.view(x.size(0), 3, 64, 64)\n",
    "        x = x.view(x.size(0), 3, 32, 32)\n",
    "\n",
    "        return x"
   ]
  },
  {
   "cell_type": "code",
   "execution_count": 10,
   "id": "9efa2cf9",
   "metadata": {
    "execution": {
     "iopub.execute_input": "2024-03-07T14:20:21.624608Z",
     "iopub.status.busy": "2024-03-07T14:20:21.624337Z",
     "iopub.status.idle": "2024-03-07T14:20:21.630865Z",
     "shell.execute_reply": "2024-03-07T14:20:21.629867Z"
    },
    "papermill": {
     "duration": 0.018777,
     "end_time": "2024-03-07T14:20:21.632885",
     "exception": false,
     "start_time": "2024-03-07T14:20:21.614108",
     "status": "completed"
    },
    "tags": []
   },
   "outputs": [],
   "source": [
    "class VAE(nn.Module):\n",
    "\n",
    "    def __init__(self, z_dim):\n",
    "        super().__init__()\n",
    "        self.encoder = ResNet18Enc(z_dim=z_dim)\n",
    "        self.decoder = ResNet18Dec(z_dim=z_dim)\n",
    "\n",
    "    def forward(self, x):\n",
    "        mean, logvar = self.encoder(x)\n",
    "        z = self.reparameterize(mean, logvar)\n",
    "        x_recon = self.decoder(z)\n",
    "        #return x_recon, z\n",
    "        return x_recon, mean, logvar, z\n",
    "    \n",
    "    @staticmethod\n",
    "    def reparameterize(mean, logvar):\n",
    "        std = torch.exp(logvar / 2) # in log-space, squareroot is divide by two\n",
    "        epsilon = torch.randn_like(std)\n",
    "        return epsilon * std + mean"
   ]
  },
  {
   "cell_type": "markdown",
   "id": "d53cd09c",
   "metadata": {
    "papermill": {
     "duration": 0.00922,
     "end_time": "2024-03-07T14:20:21.653331",
     "exception": false,
     "start_time": "2024-03-07T14:20:21.644111",
     "status": "completed"
    },
    "tags": []
   },
   "source": [
    "# Loss Function"
   ]
  },
  {
   "cell_type": "code",
   "execution_count": 11,
   "id": "ed3924fa",
   "metadata": {
    "execution": {
     "iopub.execute_input": "2024-03-07T14:20:21.673644Z",
     "iopub.status.busy": "2024-03-07T14:20:21.673402Z",
     "iopub.status.idle": "2024-03-07T14:20:21.678376Z",
     "shell.execute_reply": "2024-03-07T14:20:21.677542Z"
    },
    "papermill": {
     "duration": 0.017664,
     "end_time": "2024-03-07T14:20:21.680427",
     "exception": false,
     "start_time": "2024-03-07T14:20:21.662763",
     "status": "completed"
    },
    "tags": []
   },
   "outputs": [],
   "source": [
    "def vae_loss(x_hat, x, mean, logvar):\n",
    "    \n",
    "    # Reconstruction loss\n",
    "    recon_loss = F.mse_loss(x_hat, x, reduction='mean')\n",
    "\n",
    "    # Kullback-Leibler divergence\n",
    "    kl_divergence = -0.5 * torch.sum(1 + logvar - mean.pow(2) - logvar.exp())\n",
    "\n",
    "    # Total loss\n",
    "    loss = recon_loss + kl_divergence\n",
    "    return loss"
   ]
  },
  {
   "cell_type": "code",
   "execution_count": 12,
   "id": "06a65f30",
   "metadata": {
    "execution": {
     "iopub.execute_input": "2024-03-07T14:20:21.701460Z",
     "iopub.status.busy": "2024-03-07T14:20:21.701155Z",
     "iopub.status.idle": "2024-03-07T14:20:22.350196Z",
     "shell.execute_reply": "2024-03-07T14:20:22.348724Z"
    },
    "papermill": {
     "duration": 0.662879,
     "end_time": "2024-03-07T14:20:22.352857",
     "exception": false,
     "start_time": "2024-03-07T14:20:21.689978",
     "status": "completed"
    },
    "tags": []
   },
   "outputs": [
    {
     "name": "stdout",
     "output_type": "stream",
     "text": [
      "VAE Loss: 5.851519584655762\n"
     ]
    }
   ],
   "source": [
    "# Get a batch of images and labels\n",
    "dataiter = iter(trainloader)\n",
    "images, _ = next(dataiter)\n",
    "\n",
    "# Forward pass through VAE model to obtain reconstructed images, mean, and log variance\n",
    "vae_model_ins = VAE(z_dim=10)\n",
    "recon_images, mu, logvar, _ = vae_model_ins(images)\n",
    "\n",
    "# Compute VAE loss\n",
    "loss = vae_loss(recon_images, images, mu, logvar)\n",
    "\n",
    "# Print the loss\n",
    "print(\"VAE Loss:\", loss.item())\n"
   ]
  },
  {
   "cell_type": "markdown",
   "id": "e22211aa",
   "metadata": {
    "papermill": {
     "duration": 0.009517,
     "end_time": "2024-03-07T14:20:22.372592",
     "exception": false,
     "start_time": "2024-03-07T14:20:22.363075",
     "status": "completed"
    },
    "tags": []
   },
   "source": [
    "# Training"
   ]
  },
  {
   "cell_type": "code",
   "execution_count": 13,
   "id": "1e52ede0",
   "metadata": {
    "execution": {
     "iopub.execute_input": "2024-03-07T14:20:22.394314Z",
     "iopub.status.busy": "2024-03-07T14:20:22.393456Z",
     "iopub.status.idle": "2024-03-07T14:20:22.476899Z",
     "shell.execute_reply": "2024-03-07T14:20:22.475749Z"
    },
    "papermill": {
     "duration": 0.096582,
     "end_time": "2024-03-07T14:20:22.478885",
     "exception": false,
     "start_time": "2024-03-07T14:20:22.382303",
     "status": "completed"
    },
    "tags": []
   },
   "outputs": [
    {
     "name": "stdout",
     "output_type": "stream",
     "text": [
      "cuda:0\n"
     ]
    }
   ],
   "source": [
    "device = torch.device('cuda:0' if torch.cuda.is_available() else 'cpu')\n",
    "\n",
    "# Assuming that we are on a CUDA machine, this should print a CUDA device:\n",
    "\n",
    "print(device)"
   ]
  },
  {
   "cell_type": "code",
   "execution_count": 14,
   "id": "cdd1c061",
   "metadata": {
    "execution": {
     "iopub.execute_input": "2024-03-07T14:20:22.499901Z",
     "iopub.status.busy": "2024-03-07T14:20:22.499613Z",
     "iopub.status.idle": "2024-03-07T14:20:22.957946Z",
     "shell.execute_reply": "2024-03-07T14:20:22.957083Z"
    },
    "papermill": {
     "duration": 0.47164,
     "end_time": "2024-03-07T14:20:22.960334",
     "exception": false,
     "start_time": "2024-03-07T14:20:22.488694",
     "status": "completed"
    },
    "tags": []
   },
   "outputs": [],
   "source": [
    "from torch.optim import Adam\n",
    "from torch.optim.lr_scheduler import StepLR\n",
    "\n",
    "\n",
    "vae_model = VAE(z_dim=10)\n",
    "vae_model.to(device)\n",
    "\n",
    "optimizer = Adam(vae_model.parameters())\n",
    "#scheduler = StepLR(optimizer, step_size=1, gamma=0.1)"
   ]
  },
  {
   "cell_type": "code",
   "execution_count": 15,
   "id": "db2a2a53",
   "metadata": {
    "execution": {
     "iopub.execute_input": "2024-03-07T14:20:22.983455Z",
     "iopub.status.busy": "2024-03-07T14:20:22.982908Z",
     "iopub.status.idle": "2024-03-07T14:37:35.031542Z",
     "shell.execute_reply": "2024-03-07T14:37:35.030188Z"
    },
    "papermill": {
     "duration": 1032.062109,
     "end_time": "2024-03-07T14:37:35.033879",
     "exception": false,
     "start_time": "2024-03-07T14:20:22.971770",
     "status": "completed"
    },
    "tags": []
   },
   "outputs": [
    {
     "name": "stdout",
     "output_type": "stream",
     "text": [
      "[1,  2000] loss: 0.296\n",
      "[1,  4000] loss: 0.261\n",
      "[1,  6000] loss: 0.260\n",
      "[1,  8000] loss: 0.257\n",
      "[1, 10000] loss: 0.259\n",
      "[1, 12000] loss: 0.260\n",
      "[2,  2000] loss: 0.257\n",
      "[2,  4000] loss: 0.254\n",
      "[2,  6000] loss: 0.256\n",
      "[2,  8000] loss: 0.257\n",
      "[2, 10000] loss: 0.257\n",
      "[2, 12000] loss: 0.256\n",
      "[3,  2000] loss: 0.257\n",
      "[3,  4000] loss: 0.256\n",
      "[3,  6000] loss: 0.256\n",
      "[3,  8000] loss: 0.254\n",
      "[3, 10000] loss: 0.257\n",
      "[3, 12000] loss: 0.255\n",
      "Finished Training\n"
     ]
    }
   ],
   "source": [
    "for epoch in range(3):  # loop over the dataset multiple times\n",
    "\n",
    "    running_loss = 0.0\n",
    "    for i, data in enumerate(trainloader, 0):\n",
    "        # get the inputs; data is a list of [inputs, labels]\n",
    "        #inputs, labels = data\n",
    "        inputs, labels = data[0].to(device), data[1].to(device)\n",
    "        \n",
    "        # zero the parameter gradients\n",
    "        optimizer.zero_grad()\n",
    "\n",
    "        # forward + backward + optimize\n",
    "        x_hat, mu, logvar,_ = vae_model(inputs)\n",
    "        loss = vae_loss(x_hat, inputs, mu, logvar)\n",
    "        loss.backward()\n",
    "        optimizer.step()\n",
    "        #scheduler.step()\n",
    "\n",
    "        # print statistics\n",
    "        running_loss += loss.item()\n",
    "        if i % 2000 == 1999:    # print every 2000 mini-batches\n",
    "            print(f'[{epoch + 1}, {i + 1:5d}] loss: {running_loss / 2000:.3f}')\n",
    "            running_loss = 0.0\n",
    "\n",
    "print('Finished Training')"
   ]
  },
  {
   "cell_type": "code",
   "execution_count": 16,
   "id": "07739678",
   "metadata": {
    "execution": {
     "iopub.execute_input": "2024-03-07T14:37:35.058751Z",
     "iopub.status.busy": "2024-03-07T14:37:35.058415Z",
     "iopub.status.idle": "2024-03-07T14:37:35.212369Z",
     "shell.execute_reply": "2024-03-07T14:37:35.211108Z"
    },
    "papermill": {
     "duration": 0.169207,
     "end_time": "2024-03-07T14:37:35.214671",
     "exception": false,
     "start_time": "2024-03-07T14:37:35.045464",
     "status": "completed"
    },
    "tags": []
   },
   "outputs": [],
   "source": [
    "PATH = './cifar_net.pth'\n",
    "torch.save(vae_model.state_dict(), PATH)"
   ]
  },
  {
   "cell_type": "code",
   "execution_count": 17,
   "id": "f75e7559",
   "metadata": {
    "execution": {
     "iopub.execute_input": "2024-03-07T14:37:35.239366Z",
     "iopub.status.busy": "2024-03-07T14:37:35.238531Z",
     "iopub.status.idle": "2024-03-07T14:37:35.630395Z",
     "shell.execute_reply": "2024-03-07T14:37:35.629337Z"
    },
    "papermill": {
     "duration": 0.406324,
     "end_time": "2024-03-07T14:37:35.632459",
     "exception": false,
     "start_time": "2024-03-07T14:37:35.226135",
     "status": "completed"
    },
    "tags": []
   },
   "outputs": [
    {
     "data": {
      "text/plain": [
       "<All keys matched successfully>"
      ]
     },
     "execution_count": 17,
     "metadata": {},
     "output_type": "execute_result"
    }
   ],
   "source": [
    "vae_model1 = VAE(z_dim=10)\n",
    "vae_model1.load_state_dict(torch.load(PATH))"
   ]
  },
  {
   "cell_type": "code",
   "execution_count": 18,
   "id": "945c329f",
   "metadata": {
    "execution": {
     "iopub.execute_input": "2024-03-07T14:37:35.656682Z",
     "iopub.status.busy": "2024-03-07T14:37:35.656335Z",
     "iopub.status.idle": "2024-03-07T14:37:35.974563Z",
     "shell.execute_reply": "2024-03-07T14:37:35.973244Z"
    },
    "papermill": {
     "duration": 0.333034,
     "end_time": "2024-03-07T14:37:35.976918",
     "exception": false,
     "start_time": "2024-03-07T14:37:35.643884",
     "status": "completed"
    },
    "tags": []
   },
   "outputs": [
    {
     "data": {
      "image/png": "[encoded data removed]",
      "text/plain": [
       "<Figure size 640x480 with 1 Axes>"
      ]
     },
     "metadata": {},
     "output_type": "display_data"
    }
   ],
   "source": [
    "dataiter = iter(testloader)\n",
    "images, labels = next(dataiter)\n",
    "\n",
    "# print images\n",
    "imshow(torchvision.utils.make_grid(images))\n",
    "#print('GroundTruth: ', ' '.join(f'{classes[labels[j]]:5s}' for j in range(4)))"
   ]
  },
  {
   "cell_type": "code",
   "execution_count": 19,
   "id": "1dc29f11",
   "metadata": {
    "execution": {
     "iopub.execute_input": "2024-03-07T14:37:36.002779Z",
     "iopub.status.busy": "2024-03-07T14:37:36.002136Z",
     "iopub.status.idle": "2024-03-07T14:37:36.333598Z",
     "shell.execute_reply": "2024-03-07T14:37:36.332638Z"
    },
    "papermill": {
     "duration": 0.346888,
     "end_time": "2024-03-07T14:37:36.335674",
     "exception": false,
     "start_time": "2024-03-07T14:37:35.988786",
     "status": "completed"
    },
    "tags": []
   },
   "outputs": [
    {
     "data": {
      "image/png": "[encoded data removed]",
      "text/plain": [
       "<Figure size 640x480 with 1 Axes>"
      ]
     },
     "metadata": {},
     "output_type": "display_data"
    }
   ],
   "source": [
    "outputs, _, _, _ = vae_model1(images)\n",
    "imshow(torchvision.utils.make_grid(outputs))"
   ]
  },
  {
   "cell_type": "code",
   "execution_count": null,
   "id": "4618fc13",
   "metadata": {
    "papermill": {
     "duration": 0.01176,
     "end_time": "2024-03-07T14:37:36.359833",
     "exception": false,
     "start_time": "2024-03-07T14:37:36.348073",
     "status": "completed"
    },
    "tags": []
   },
   "outputs": [],
   "source": []
  }
 ],
 "metadata": {
  "kaggle": {
   "accelerator": "nvidiaTeslaT4",
   "dataSources": [],
   "dockerImageVersionId": 30664,
   "isGpuEnabled": true,
   "isInternetEnabled": true,
   "language": "python",
   "sourceType": "notebook"
  },
  "kernelspec": {
   "display_name": "Python 3",
   "language": "python",
   "name": "python3"
  },
  "language_info": {
   "codemirror_mode": {
    "name": "ipython",
    "version": 3
   },
   "file_extension": ".py",
   "mimetype": "text/x-python",
   "name": "python",
   "nbconvert_exporter": "python",
   "pygments_lexer": "ipython3",
   "version": "3.10.13"
  },
  "papermill": {
   "default_parameters": {},
   "duration": 1055.181928,
   "end_time": "2024-03-07T14:37:39.093585",
   "environment_variables": {},
   "exception": null,
   "input_path": "__notebook__.ipynb",
   "output_path": "__notebook__.ipynb",
   "parameters": {},
   "start_time": "2024-03-07T14:20:03.911657",
   "version": "2.5.0"
  }
 },
 "nbformat": 4,
 "nbformat_minor": 5
}
