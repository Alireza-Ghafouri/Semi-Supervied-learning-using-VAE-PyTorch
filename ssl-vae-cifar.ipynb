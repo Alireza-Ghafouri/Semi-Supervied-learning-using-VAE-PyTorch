{
 "cells": [
  {
   "cell_type": "markdown",
   "id": "c153cb83",
   "metadata": {
    "papermill": {
     "duration": 0.005629,
     "end_time": "2024-03-07T09:16:59.527800",
     "exception": false,
     "start_time": "2024-03-07T09:16:59.522171",
     "status": "completed"
    },
    "tags": []
   },
   "source": [
    "# Data Loader"
   ]
  },
  {
   "cell_type": "code",
   "execution_count": 1,
   "id": "a81e7435",
   "metadata": {
    "execution": {
     "iopub.execute_input": "2024-03-07T09:16:59.540878Z",
     "iopub.status.busy": "2024-03-07T09:16:59.540243Z",
     "iopub.status.idle": "2024-03-07T09:17:07.037753Z",
     "shell.execute_reply": "2024-03-07T09:17:07.036238Z"
    },
    "papermill": {
     "duration": 7.509044,
     "end_time": "2024-03-07T09:17:07.041556",
     "exception": false,
     "start_time": "2024-03-07T09:16:59.532512",
     "status": "completed"
    },
    "tags": []
   },
   "outputs": [],
   "source": [
    "import torch\n",
    "import torchvision\n",
    "import torchvision.transforms as transforms"
   ]
  },
  {
   "cell_type": "code",
   "execution_count": 2,
   "id": "a4ead10c",
   "metadata": {
    "execution": {
     "iopub.execute_input": "2024-03-07T09:17:07.053931Z",
     "iopub.status.busy": "2024-03-07T09:17:07.053141Z",
     "iopub.status.idle": "2024-03-07T09:17:23.172360Z",
     "shell.execute_reply": "2024-03-07T09:17:23.170836Z"
    },
    "papermill": {
     "duration": 16.129321,
     "end_time": "2024-03-07T09:17:23.175614",
     "exception": false,
     "start_time": "2024-03-07T09:17:07.046293",
     "status": "completed"
    },
    "tags": []
   },
   "outputs": [
    {
     "name": "stdout",
     "output_type": "stream",
     "text": [
      "Downloading https://www.cs.toronto.edu/~kriz/cifar-10-python.tar.gz to ./data/cifar-10-python.tar.gz\n"
     ]
    },
    {
     "name": "stderr",
     "output_type": "stream",
     "text": [
      "100%|██████████| 170498071/170498071 [00:11<00:00, 15402735.41it/s]\n"
     ]
    },
    {
     "name": "stdout",
     "output_type": "stream",
     "text": [
      "Extracting ./data/cifar-10-python.tar.gz to ./data\n",
      "Files already downloaded and verified\n"
     ]
    }
   ],
   "source": [
    "transform = transforms.Compose(\n",
    "    [transforms.ToTensor(),\n",
    "     transforms.Normalize((0.5, 0.5, 0.5), (0.5, 0.5, 0.5))])\n",
    "\n",
    "batch_size = 4\n",
    "\n",
    "trainset = torchvision.datasets.CIFAR10(root='./data', train=True,\n",
    "                                        download=True, transform=transform)\n",
    "trainloader = torch.utils.data.DataLoader(trainset, batch_size=batch_size,\n",
    "                                          shuffle=True, num_workers=2)\n",
    "\n",
    "testset = torchvision.datasets.CIFAR10(root='./data', train=False,\n",
    "                                       download=True, transform=transform)\n",
    "testloader = torch.utils.data.DataLoader(testset, batch_size=batch_size,\n",
    "                                         shuffle=False, num_workers=2)\n",
    "\n",
    "classes = ('plane', 'car', 'bird', 'cat',\n",
    "           'deer', 'dog', 'frog', 'horse', 'ship', 'truck')"
   ]
  },
  {
   "cell_type": "code",
   "execution_count": 3,
   "id": "b6010778",
   "metadata": {
    "execution": {
     "iopub.execute_input": "2024-03-07T09:17:23.196924Z",
     "iopub.status.busy": "2024-03-07T09:17:23.196484Z",
     "iopub.status.idle": "2024-03-07T09:17:23.658524Z",
     "shell.execute_reply": "2024-03-07T09:17:23.655788Z"
    },
    "papermill": {
     "duration": 0.476465,
     "end_time": "2024-03-07T09:17:23.661613",
     "exception": false,
     "start_time": "2024-03-07T09:17:23.185148",
     "status": "completed"
    },
    "tags": []
   },
   "outputs": [
    {
     "name": "stderr",
     "output_type": "stream",
     "text": [
      "/opt/conda/lib/python3.10/multiprocessing/popen_fork.py:66: RuntimeWarning: os.fork() was called. os.fork() is incompatible with multithreaded code, and JAX is multithreaded, so this will likely lead to a deadlock.\n",
      "  self.pid = os.fork()\n"
     ]
    },
    {
     "data": {
      "image/png": "[encoded data removed]",
      "text/plain": [
       "<Figure size 640x480 with 1 Axes>"
      ]
     },
     "metadata": {},
     "output_type": "display_data"
    },
    {
     "name": "stdout",
     "output_type": "stream",
     "text": [
      "dog   bird  ship  frog \n"
     ]
    }
   ],
   "source": [
    "import matplotlib.pyplot as plt\n",
    "import numpy as np\n",
    "\n",
    "# functions to show an image\n",
    "\n",
    "\n",
    "def imshow(img):\n",
    "    img = img / 2 + 0.5     # unnormalize\n",
    "    npimg = img.numpy()\n",
    "    plt.imshow(np.transpose(npimg, (1, 2, 0)))\n",
    "    plt.show()\n",
    "\n",
    "\n",
    "# get some random training images\n",
    "dataiter = iter(trainloader)\n",
    "images, labels = next(dataiter)\n",
    "\n",
    "# show images\n",
    "imshow(torchvision.utils.make_grid(images))\n",
    "# print labels\n",
    "print(' '.join(f'{classes[labels[j]]:5s}' for j in range(batch_size)))"
   ]
  },
  {
   "cell_type": "markdown",
   "id": "cfc6c2d7",
   "metadata": {
    "papermill": {
     "duration": 0.0095,
     "end_time": "2024-03-07T09:17:23.681143",
     "exception": false,
     "start_time": "2024-03-07T09:17:23.671643",
     "status": "completed"
    },
    "tags": []
   },
   "source": [
    "# Model"
   ]
  },
  {
   "cell_type": "code",
   "execution_count": 4,
   "id": "7c49f837",
   "metadata": {
    "execution": {
     "iopub.execute_input": "2024-03-07T09:17:23.704281Z",
     "iopub.status.busy": "2024-03-07T09:17:23.703845Z",
     "iopub.status.idle": "2024-03-07T09:17:23.708916Z",
     "shell.execute_reply": "2024-03-07T09:17:23.707641Z"
    },
    "papermill": {
     "duration": 0.020103,
     "end_time": "2024-03-07T09:17:23.711309",
     "exception": false,
     "start_time": "2024-03-07T09:17:23.691206",
     "status": "completed"
    },
    "tags": []
   },
   "outputs": [],
   "source": [
    "from torch import nn, optim\n",
    "import torch.nn.functional as F"
   ]
  },
  {
   "cell_type": "code",
   "execution_count": 5,
   "id": "8a6351ad",
   "metadata": {
    "execution": {
     "iopub.execute_input": "2024-03-07T09:17:23.734903Z",
     "iopub.status.busy": "2024-03-07T09:17:23.734486Z",
     "iopub.status.idle": "2024-03-07T09:17:23.741649Z",
     "shell.execute_reply": "2024-03-07T09:17:23.740222Z"
    },
    "papermill": {
     "duration": 0.022867,
     "end_time": "2024-03-07T09:17:23.744519",
     "exception": false,
     "start_time": "2024-03-07T09:17:23.721652",
     "status": "completed"
    },
    "tags": []
   },
   "outputs": [],
   "source": [
    "class ResizeConv2d(nn.Module):\n",
    "\n",
    "    def __init__(self, in_channels, out_channels, kernel_size, scale_factor, mode='nearest'):\n",
    "        super().__init__()\n",
    "        self.scale_factor = scale_factor\n",
    "        self.mode = mode\n",
    "        self.conv = nn.Conv2d(in_channels, out_channels, kernel_size, stride=1, padding=1)\n",
    "\n",
    "    def forward(self, x):\n",
    "        x = F.interpolate(x, scale_factor=self.scale_factor, mode=self.mode)\n",
    "        x = self.conv(x)\n",
    "        return x"
   ]
  },
  {
   "cell_type": "code",
   "execution_count": 6,
   "id": "4afa4af4",
   "metadata": {
    "execution": {
     "iopub.execute_input": "2024-03-07T09:17:23.767621Z",
     "iopub.status.busy": "2024-03-07T09:17:23.767137Z",
     "iopub.status.idle": "2024-03-07T09:17:23.776249Z",
     "shell.execute_reply": "2024-03-07T09:17:23.774747Z"
    },
    "papermill": {
     "duration": 0.023198,
     "end_time": "2024-03-07T09:17:23.778612",
     "exception": false,
     "start_time": "2024-03-07T09:17:23.755414",
     "status": "completed"
    },
    "tags": []
   },
   "outputs": [],
   "source": [
    "class BasicBlockEnc(nn.Module):\n",
    "\n",
    "    def __init__(self, in_planes, stride=1):\n",
    "        super().__init__()\n",
    "\n",
    "        planes = in_planes*stride\n",
    "\n",
    "        self.conv1 = nn.Conv2d(in_planes, planes, kernel_size=3, stride=stride, padding=1, bias=False)\n",
    "        self.bn1 = nn.BatchNorm2d(planes)\n",
    "        self.conv2 = nn.Conv2d(planes, planes, kernel_size=3, stride=1, padding=1, bias=False)\n",
    "        self.bn2 = nn.BatchNorm2d(planes)\n",
    "\n",
    "        if stride == 1:\n",
    "            self.shortcut = nn.Sequential()\n",
    "        else:\n",
    "            self.shortcut = nn.Sequential(\n",
    "                nn.Conv2d(in_planes, planes, kernel_size=1, stride=stride, bias=False),\n",
    "                nn.BatchNorm2d(planes)\n",
    "            )\n",
    "\n",
    "    def forward(self, x):\n",
    "        out = torch.relu(self.bn1(self.conv1(x)))\n",
    "        out = self.bn2(self.conv2(out))\n",
    "        out += self.shortcut(x)\n",
    "        out = torch.relu(out)\n",
    "        return out\n"
   ]
  },
  {
   "cell_type": "code",
   "execution_count": 7,
   "id": "abe38e10",
   "metadata": {
    "execution": {
     "iopub.execute_input": "2024-03-07T09:17:23.801521Z",
     "iopub.status.busy": "2024-03-07T09:17:23.801162Z",
     "iopub.status.idle": "2024-03-07T09:17:23.810026Z",
     "shell.execute_reply": "2024-03-07T09:17:23.808976Z"
    },
    "papermill": {
     "duration": 0.024055,
     "end_time": "2024-03-07T09:17:23.812352",
     "exception": false,
     "start_time": "2024-03-07T09:17:23.788297",
     "status": "completed"
    },
    "tags": []
   },
   "outputs": [],
   "source": [
    "class BasicBlockDec(nn.Module):\n",
    "\n",
    "    def __init__(self, in_planes, stride=1):\n",
    "        super().__init__()\n",
    "\n",
    "        planes = int(in_planes/stride)\n",
    "\n",
    "        self.conv2 = nn.Conv2d(in_planes, in_planes, kernel_size=3, stride=1, padding=1, bias=False)\n",
    "        self.bn2 = nn.BatchNorm2d(in_planes)\n",
    "        # self.bn1 could have been placed here, but that messes up the order of the layers when printing the class\n",
    "\n",
    "        if stride == 1:\n",
    "            self.conv1 = nn.Conv2d(in_planes, planes, kernel_size=3, stride=1, padding=1, bias=False)\n",
    "            self.bn1 = nn.BatchNorm2d(planes)\n",
    "            self.shortcut = nn.Sequential()\n",
    "        else:\n",
    "            self.conv1 = ResizeConv2d(in_planes, planes, kernel_size=3, scale_factor=stride)\n",
    "            self.bn1 = nn.BatchNorm2d(planes)\n",
    "            self.shortcut = nn.Sequential(\n",
    "                ResizeConv2d(in_planes, planes, kernel_size=3, scale_factor=stride),\n",
    "                nn.BatchNorm2d(planes)\n",
    "            )\n",
    "\n",
    "    def forward(self, x):\n",
    "        out = torch.relu(self.bn2(self.conv2(x)))\n",
    "        out = self.bn1(self.conv1(out))\n",
    "        out += self.shortcut(x)\n",
    "        out = torch.relu(out)\n",
    "        return out"
   ]
  },
  {
   "cell_type": "code",
   "execution_count": 8,
   "id": "96c644ab",
   "metadata": {
    "execution": {
     "iopub.execute_input": "2024-03-07T09:17:23.835129Z",
     "iopub.status.busy": "2024-03-07T09:17:23.834728Z",
     "iopub.status.idle": "2024-03-07T09:17:23.851834Z",
     "shell.execute_reply": "2024-03-07T09:17:23.849898Z"
    },
    "papermill": {
     "duration": 0.031715,
     "end_time": "2024-03-07T09:17:23.854500",
     "exception": false,
     "start_time": "2024-03-07T09:17:23.822785",
     "status": "completed"
    },
    "tags": []
   },
   "outputs": [],
   "source": [
    "class ResNet18Enc(nn.Module):\n",
    "\n",
    "    def __init__(self, num_Blocks=[2,2,2,2], z_dim=10, nc=3):\n",
    "        super().__init__()\n",
    "        self.in_planes = 64\n",
    "        self.z_dim = z_dim\n",
    "        \n",
    "        #self.conv1 = nn.Conv2d(nc, 64, kernel_size=3, stride=2, padding=1, bias=False)\n",
    "        self.conv1 = nn.Conv2d(nc, 64, kernel_size=3, stride=1, padding=1, bias=False)\n",
    "        \n",
    "        self.bn1 = nn.BatchNorm2d(64)\n",
    "        self.layer1 = self._make_layer(BasicBlockEnc, 64, num_Blocks[0], stride=1)\n",
    "        self.layer2 = self._make_layer(BasicBlockEnc, 128, num_Blocks[1], stride=2)\n",
    "        self.layer3 = self._make_layer(BasicBlockEnc, 256, num_Blocks[2], stride=2)\n",
    "        self.layer4 = self._make_layer(BasicBlockEnc, 512, num_Blocks[3], stride=2)\n",
    "        self.linear = nn.Linear(512, 2 * z_dim)\n",
    "\n",
    "    def _make_layer(self, BasicBlockEnc, planes, num_Blocks, stride):\n",
    "        strides = [stride] + [1]*(num_Blocks-1)\n",
    "        layers = []\n",
    "        for stride in strides:\n",
    "            layers += [BasicBlockEnc(self.in_planes, stride)]\n",
    "            self.in_planes = planes\n",
    "        return nn.Sequential(*layers)\n",
    "\n",
    "    def forward(self, x):\n",
    "        x = torch.relu(self.bn1(self.conv1(x)))\n",
    "        x = self.layer1(x)\n",
    "        x = self.layer2(x)\n",
    "        x = self.layer3(x)\n",
    "        x = self.layer4(x)\n",
    "        x = F.adaptive_avg_pool2d(x, 1)\n",
    "        x = x.view(x.size(0), -1)\n",
    "        x = self.linear(x)\n",
    "        mu = x[:, :self.z_dim]\n",
    "        logvar = x[:, self.z_dim:]\n",
    "        return mu, logvar"
   ]
  },
  {
   "cell_type": "code",
   "execution_count": 9,
   "id": "ac11d615",
   "metadata": {
    "execution": {
     "iopub.execute_input": "2024-03-07T09:17:23.877009Z",
     "iopub.status.busy": "2024-03-07T09:17:23.876511Z",
     "iopub.status.idle": "2024-03-07T09:17:23.888792Z",
     "shell.execute_reply": "2024-03-07T09:17:23.887466Z"
    },
    "papermill": {
     "duration": 0.027015,
     "end_time": "2024-03-07T09:17:23.891472",
     "exception": false,
     "start_time": "2024-03-07T09:17:23.864457",
     "status": "completed"
    },
    "tags": []
   },
   "outputs": [],
   "source": [
    "class ResNet18Dec(nn.Module):\n",
    "\n",
    "    def __init__(self, num_Blocks=[2,2,2,2], z_dim=10, nc=3):\n",
    "        super().__init__()\n",
    "        self.in_planes = 512\n",
    "\n",
    "        self.linear = nn.Linear(z_dim, 512)\n",
    "\n",
    "        self.layer4 = self._make_layer(BasicBlockDec, 256, num_Blocks[3], stride=2)\n",
    "        self.layer3 = self._make_layer(BasicBlockDec, 128, num_Blocks[2], stride=2)\n",
    "        self.layer2 = self._make_layer(BasicBlockDec, 64, num_Blocks[1], stride=2)\n",
    "        self.layer1 = self._make_layer(BasicBlockDec, 64, num_Blocks[0], stride=1)\n",
    "        #self.conv1 = ResizeConv2d(64, nc, kernel_size=3, scale_factor=2)\n",
    "        self.conv1 = ResizeConv2d(64, nc, kernel_size=3, scale_factor=1)\n",
    "\n",
    "    def _make_layer(self, BasicBlockDec, planes, num_Blocks, stride):\n",
    "        strides = [stride] + [1]*(num_Blocks-1)\n",
    "        layers = []\n",
    "        for stride in reversed(strides):\n",
    "            layers += [BasicBlockDec(self.in_planes, stride)]\n",
    "        self.in_planes = planes\n",
    "        return nn.Sequential(*layers)\n",
    "\n",
    "    def forward(self, z):\n",
    "        x = self.linear(z)\n",
    "        x = x.view(z.size(0), 512, 1, 1)       #reshaped to have dimensions (batch_size, 512, 1, 1)\n",
    "        x = F.interpolate(x, scale_factor=4)\n",
    "        x = self.layer4(x)\n",
    "        x = self.layer3(x)\n",
    "        x = self.layer2(x)\n",
    "        x = self.layer1(x)\n",
    "        x = torch.sigmoid(self.conv1(x))\n",
    "        \n",
    "        #x = x.view(x.size(0), 3, 64, 64)\n",
    "        x = x.view(x.size(0), 3, 32, 32)\n",
    "\n",
    "        return x"
   ]
  },
  {
   "cell_type": "code",
   "execution_count": 10,
   "id": "064d8148",
   "metadata": {
    "execution": {
     "iopub.execute_input": "2024-03-07T09:17:23.914316Z",
     "iopub.status.busy": "2024-03-07T09:17:23.913501Z",
     "iopub.status.idle": "2024-03-07T09:17:23.923564Z",
     "shell.execute_reply": "2024-03-07T09:17:23.922340Z"
    },
    "papermill": {
     "duration": 0.024557,
     "end_time": "2024-03-07T09:17:23.926095",
     "exception": false,
     "start_time": "2024-03-07T09:17:23.901538",
     "status": "completed"
    },
    "tags": []
   },
   "outputs": [],
   "source": [
    "class VAE(nn.Module):\n",
    "\n",
    "    def __init__(self, z_dim):\n",
    "        super().__init__()\n",
    "        self.encoder = ResNet18Enc(z_dim=z_dim)\n",
    "        self.decoder = ResNet18Dec(z_dim=z_dim)\n",
    "\n",
    "    def forward(self, x):\n",
    "        mean, logvar = self.encoder(x)\n",
    "        z = self.reparameterize(mean, logvar)\n",
    "        x_recon = self.decoder(z)\n",
    "        #return x_recon, z\n",
    "        return x_recon, mean, logvar, z\n",
    "    \n",
    "    @staticmethod\n",
    "    def reparameterize(mean, logvar):\n",
    "        std = torch.exp(logvar / 2) # in log-space, squareroot is divide by two\n",
    "        epsilon = torch.randn_like(std)\n",
    "        return epsilon * std + mean"
   ]
  },
  {
   "cell_type": "markdown",
   "id": "57073780",
   "metadata": {
    "papermill": {
     "duration": 0.011171,
     "end_time": "2024-03-07T09:17:23.947210",
     "exception": false,
     "start_time": "2024-03-07T09:17:23.936039",
     "status": "completed"
    },
    "tags": []
   },
   "source": [
    "# Loss Function & Optimizer"
   ]
  },
  {
   "cell_type": "code",
   "execution_count": 11,
   "id": "66882453",
   "metadata": {
    "execution": {
     "iopub.execute_input": "2024-03-07T09:17:23.972308Z",
     "iopub.status.busy": "2024-03-07T09:17:23.971889Z",
     "iopub.status.idle": "2024-03-07T09:17:23.979440Z",
     "shell.execute_reply": "2024-03-07T09:17:23.976970Z"
    },
    "papermill": {
     "duration": 0.02301,
     "end_time": "2024-03-07T09:17:23.981859",
     "exception": false,
     "start_time": "2024-03-07T09:17:23.958849",
     "status": "completed"
    },
    "tags": []
   },
   "outputs": [],
   "source": [
    "def vae_loss(x_hat, x, mean, logvar):\n",
    "    \n",
    "    # Reconstruction loss\n",
    "    recon_loss = F.mse_loss(x_hat, x, reduction='sum')\n",
    "\n",
    "    # Kullback-Leibler divergence\n",
    "    kl_divergence = -0.5 * torch.sum(1 + logvar - mean.pow(2) - logvar.exp())\n",
    "\n",
    "    # Total loss\n",
    "    loss = recon_loss + kl_divergence\n",
    "    return loss"
   ]
  },
  {
   "cell_type": "code",
   "execution_count": 12,
   "id": "2fb14dd2",
   "metadata": {
    "execution": {
     "iopub.execute_input": "2024-03-07T09:17:24.005947Z",
     "iopub.status.busy": "2024-03-07T09:17:24.005562Z",
     "iopub.status.idle": "2024-03-07T09:17:24.011679Z",
     "shell.execute_reply": "2024-03-07T09:17:24.010003Z"
    },
    "papermill": {
     "duration": 0.022376,
     "end_time": "2024-03-07T09:17:24.014461",
     "exception": false,
     "start_time": "2024-03-07T09:17:23.992085",
     "status": "completed"
    },
    "tags": []
   },
   "outputs": [],
   "source": [
    "from torch.optim import Adam\n",
    "\n",
    "#optimizer = Adam(model.parameters(), lr=lr)"
   ]
  },
  {
   "cell_type": "code",
   "execution_count": 13,
   "id": "6df0223e",
   "metadata": {
    "execution": {
     "iopub.execute_input": "2024-03-07T09:17:24.040419Z",
     "iopub.status.busy": "2024-03-07T09:17:24.039725Z",
     "iopub.status.idle": "2024-03-07T09:17:24.876381Z",
     "shell.execute_reply": "2024-03-07T09:17:24.873561Z"
    },
    "papermill": {
     "duration": 0.853616,
     "end_time": "2024-03-07T09:17:24.879967",
     "exception": false,
     "start_time": "2024-03-07T09:17:24.026351",
     "status": "completed"
    },
    "tags": []
   },
   "outputs": [
    {
     "name": "stdout",
     "output_type": "stream",
     "text": [
      "VAE Loss: 6601.0419921875\n"
     ]
    }
   ],
   "source": [
    "# Get a batch of images and labels\n",
    "dataiter = iter(trainloader)\n",
    "images, _ = next(dataiter)\n",
    "\n",
    "# Forward pass through VAE model to obtain reconstructed images, mean, and log variance\n",
    "vae_model_ins = VAE(z_dim=10)\n",
    "recon_images, mu, logvar, _ = vae_model_ins(images)\n",
    "\n",
    "# Compute VAE loss\n",
    "loss = vae_loss(recon_images, images, mu, logvar)\n",
    "\n",
    "# Print the loss\n",
    "print(\"VAE Loss:\", loss.item())\n"
   ]
  }
 ],
 "metadata": {
  "kaggle": {
   "accelerator": "none",
   "dataSources": [],
   "dockerImageVersionId": 30664,
   "isGpuEnabled": false,
   "isInternetEnabled": true,
   "language": "python",
   "sourceType": "notebook"
  },
  "kernelspec": {
   "display_name": "Python 3",
   "language": "python",
   "name": "python3"
  },
  "language_info": {
   "codemirror_mode": {
    "name": "ipython",
    "version": 3
   },
   "file_extension": ".py",
   "mimetype": "text/x-python",
   "name": "python",
   "nbconvert_exporter": "python",
   "pygments_lexer": "ipython3",
   "version": "3.10.13"
  },
  "papermill": {
   "default_parameters": {},
   "duration": 31.123254,
   "end_time": "2024-03-07T09:17:27.515482",
   "environment_variables": {},
   "exception": null,
   "input_path": "__notebook__.ipynb",
   "output_path": "__notebook__.ipynb",
   "parameters": {},
   "start_time": "2024-03-07T09:16:56.392228",
   "version": "2.5.0"
  }
 },
 "nbformat": 4,
 "nbformat_minor": 5
}
